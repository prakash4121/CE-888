{
  "cells": [
    {
      "cell_type": "markdown",
      "metadata": {
        "id": "view-in-github",
        "colab_type": "text"
      },
      "source": [
        "<a href=\"https://colab.research.google.com/github/prakash4121/CE-888/blob/main/lab5/lab_exploration.ipynb\" target=\"_parent\"><img src=\"https://colab.research.google.com/assets/colab-badge.svg\" alt=\"Open In Colab\"/></a>"
      ]
    },
    {
      "cell_type": "code",
      "execution_count": 77,
      "metadata": {
        "id": "X8ESUl-E7Kzt"
      },
      "outputs": [],
      "source": [
        "%matplotlib inline\n",
        "import matplotlib\n",
        "import numpy as np\n",
        "import matplotlib.pyplot as plt\n",
        "import pandas as pd\n",
        "import seaborn as sns\n",
        "\n",
        "from sklearn.datasets import load_wine\n",
        "\n",
        "from sklearn.preprocessing import LabelEncoder, StandardScaler, OneHotEncoder\n",
        "from sklearn.decomposition import PCA\n",
        "from sklearn.cluster import KMeans\n",
        "from sklearn.metrics import silhouette_score"
      ]
    },
    {
      "cell_type": "markdown",
      "metadata": {
        "id": "VEiShHZj7K0Y"
      },
      "source": [
        "* We have loaded the necessary libraries above\n",
        "* Now let's load the data"
      ]
    },
    {
      "cell_type": "code",
      "execution_count": 78,
      "metadata": {
        "id": "U2xMQ41u7K0m",
        "colab": {
          "base_uri": "https://localhost:8080/",
          "height": 270
        },
        "outputId": "dea79af6-615a-428b-ef59-704869e33edc"
      },
      "outputs": [
        {
          "output_type": "execute_result",
          "data": {
            "text/plain": [
              "   alcohol  malic_acid   ash  alcalinity_of_ash  magnesium  total_phenols  \\\n",
              "0    14.23        1.71  2.43               15.6      127.0           2.80   \n",
              "1    13.20        1.78  2.14               11.2      100.0           2.65   \n",
              "2    13.16        2.36  2.67               18.6      101.0           2.80   \n",
              "3    14.37        1.95  2.50               16.8      113.0           3.85   \n",
              "4    13.24        2.59  2.87               21.0      118.0           2.80   \n",
              "\n",
              "   flavanoids  nonflavanoid_phenols  proanthocyanins  color_intensity   hue  \\\n",
              "0        3.06                  0.28             2.29             5.64  1.04   \n",
              "1        2.76                  0.26             1.28             4.38  1.05   \n",
              "2        3.24                  0.30             2.81             5.68  1.03   \n",
              "3        3.49                  0.24             2.18             7.80  0.86   \n",
              "4        2.69                  0.39             1.82             4.32  1.04   \n",
              "\n",
              "   od280/od315_of_diluted_wines  proline  y  \n",
              "0                          3.92   1065.0  0  \n",
              "1                          3.40   1050.0  0  \n",
              "2                          3.17   1185.0  0  \n",
              "3                          3.45   1480.0  0  \n",
              "4                          2.93    735.0  0  "
            ],
            "text/html": [
              "\n",
              "  <div id=\"df-fd3c53e4-4a02-402e-bb83-a1ccbac059d9\">\n",
              "    <div class=\"colab-df-container\">\n",
              "      <div>\n",
              "<style scoped>\n",
              "    .dataframe tbody tr th:only-of-type {\n",
              "        vertical-align: middle;\n",
              "    }\n",
              "\n",
              "    .dataframe tbody tr th {\n",
              "        vertical-align: top;\n",
              "    }\n",
              "\n",
              "    .dataframe thead th {\n",
              "        text-align: right;\n",
              "    }\n",
              "</style>\n",
              "<table border=\"1\" class=\"dataframe\">\n",
              "  <thead>\n",
              "    <tr style=\"text-align: right;\">\n",
              "      <th></th>\n",
              "      <th>alcohol</th>\n",
              "      <th>malic_acid</th>\n",
              "      <th>ash</th>\n",
              "      <th>alcalinity_of_ash</th>\n",
              "      <th>magnesium</th>\n",
              "      <th>total_phenols</th>\n",
              "      <th>flavanoids</th>\n",
              "      <th>nonflavanoid_phenols</th>\n",
              "      <th>proanthocyanins</th>\n",
              "      <th>color_intensity</th>\n",
              "      <th>hue</th>\n",
              "      <th>od280/od315_of_diluted_wines</th>\n",
              "      <th>proline</th>\n",
              "      <th>y</th>\n",
              "    </tr>\n",
              "  </thead>\n",
              "  <tbody>\n",
              "    <tr>\n",
              "      <th>0</th>\n",
              "      <td>14.23</td>\n",
              "      <td>1.71</td>\n",
              "      <td>2.43</td>\n",
              "      <td>15.6</td>\n",
              "      <td>127.0</td>\n",
              "      <td>2.80</td>\n",
              "      <td>3.06</td>\n",
              "      <td>0.28</td>\n",
              "      <td>2.29</td>\n",
              "      <td>5.64</td>\n",
              "      <td>1.04</td>\n",
              "      <td>3.92</td>\n",
              "      <td>1065.0</td>\n",
              "      <td>0</td>\n",
              "    </tr>\n",
              "    <tr>\n",
              "      <th>1</th>\n",
              "      <td>13.20</td>\n",
              "      <td>1.78</td>\n",
              "      <td>2.14</td>\n",
              "      <td>11.2</td>\n",
              "      <td>100.0</td>\n",
              "      <td>2.65</td>\n",
              "      <td>2.76</td>\n",
              "      <td>0.26</td>\n",
              "      <td>1.28</td>\n",
              "      <td>4.38</td>\n",
              "      <td>1.05</td>\n",
              "      <td>3.40</td>\n",
              "      <td>1050.0</td>\n",
              "      <td>0</td>\n",
              "    </tr>\n",
              "    <tr>\n",
              "      <th>2</th>\n",
              "      <td>13.16</td>\n",
              "      <td>2.36</td>\n",
              "      <td>2.67</td>\n",
              "      <td>18.6</td>\n",
              "      <td>101.0</td>\n",
              "      <td>2.80</td>\n",
              "      <td>3.24</td>\n",
              "      <td>0.30</td>\n",
              "      <td>2.81</td>\n",
              "      <td>5.68</td>\n",
              "      <td>1.03</td>\n",
              "      <td>3.17</td>\n",
              "      <td>1185.0</td>\n",
              "      <td>0</td>\n",
              "    </tr>\n",
              "    <tr>\n",
              "      <th>3</th>\n",
              "      <td>14.37</td>\n",
              "      <td>1.95</td>\n",
              "      <td>2.50</td>\n",
              "      <td>16.8</td>\n",
              "      <td>113.0</td>\n",
              "      <td>3.85</td>\n",
              "      <td>3.49</td>\n",
              "      <td>0.24</td>\n",
              "      <td>2.18</td>\n",
              "      <td>7.80</td>\n",
              "      <td>0.86</td>\n",
              "      <td>3.45</td>\n",
              "      <td>1480.0</td>\n",
              "      <td>0</td>\n",
              "    </tr>\n",
              "    <tr>\n",
              "      <th>4</th>\n",
              "      <td>13.24</td>\n",
              "      <td>2.59</td>\n",
              "      <td>2.87</td>\n",
              "      <td>21.0</td>\n",
              "      <td>118.0</td>\n",
              "      <td>2.80</td>\n",
              "      <td>2.69</td>\n",
              "      <td>0.39</td>\n",
              "      <td>1.82</td>\n",
              "      <td>4.32</td>\n",
              "      <td>1.04</td>\n",
              "      <td>2.93</td>\n",
              "      <td>735.0</td>\n",
              "      <td>0</td>\n",
              "    </tr>\n",
              "  </tbody>\n",
              "</table>\n",
              "</div>\n",
              "      <button class=\"colab-df-convert\" onclick=\"convertToInteractive('df-fd3c53e4-4a02-402e-bb83-a1ccbac059d9')\"\n",
              "              title=\"Convert this dataframe to an interactive table.\"\n",
              "              style=\"display:none;\">\n",
              "        \n",
              "  <svg xmlns=\"http://www.w3.org/2000/svg\" height=\"24px\"viewBox=\"0 0 24 24\"\n",
              "       width=\"24px\">\n",
              "    <path d=\"M0 0h24v24H0V0z\" fill=\"none\"/>\n",
              "    <path d=\"M18.56 5.44l.94 2.06.94-2.06 2.06-.94-2.06-.94-.94-2.06-.94 2.06-2.06.94zm-11 1L8.5 8.5l.94-2.06 2.06-.94-2.06-.94L8.5 2.5l-.94 2.06-2.06.94zm10 10l.94 2.06.94-2.06 2.06-.94-2.06-.94-.94-2.06-.94 2.06-2.06.94z\"/><path d=\"M17.41 7.96l-1.37-1.37c-.4-.4-.92-.59-1.43-.59-.52 0-1.04.2-1.43.59L10.3 9.45l-7.72 7.72c-.78.78-.78 2.05 0 2.83L4 21.41c.39.39.9.59 1.41.59.51 0 1.02-.2 1.41-.59l7.78-7.78 2.81-2.81c.8-.78.8-2.07 0-2.86zM5.41 20L4 18.59l7.72-7.72 1.47 1.35L5.41 20z\"/>\n",
              "  </svg>\n",
              "      </button>\n",
              "      \n",
              "  <style>\n",
              "    .colab-df-container {\n",
              "      display:flex;\n",
              "      flex-wrap:wrap;\n",
              "      gap: 12px;\n",
              "    }\n",
              "\n",
              "    .colab-df-convert {\n",
              "      background-color: #E8F0FE;\n",
              "      border: none;\n",
              "      border-radius: 50%;\n",
              "      cursor: pointer;\n",
              "      display: none;\n",
              "      fill: #1967D2;\n",
              "      height: 32px;\n",
              "      padding: 0 0 0 0;\n",
              "      width: 32px;\n",
              "    }\n",
              "\n",
              "    .colab-df-convert:hover {\n",
              "      background-color: #E2EBFA;\n",
              "      box-shadow: 0px 1px 2px rgba(60, 64, 67, 0.3), 0px 1px 3px 1px rgba(60, 64, 67, 0.15);\n",
              "      fill: #174EA6;\n",
              "    }\n",
              "\n",
              "    [theme=dark] .colab-df-convert {\n",
              "      background-color: #3B4455;\n",
              "      fill: #D2E3FC;\n",
              "    }\n",
              "\n",
              "    [theme=dark] .colab-df-convert:hover {\n",
              "      background-color: #434B5C;\n",
              "      box-shadow: 0px 1px 3px 1px rgba(0, 0, 0, 0.15);\n",
              "      filter: drop-shadow(0px 1px 2px rgba(0, 0, 0, 0.3));\n",
              "      fill: #FFFFFF;\n",
              "    }\n",
              "  </style>\n",
              "\n",
              "      <script>\n",
              "        const buttonEl =\n",
              "          document.querySelector('#df-fd3c53e4-4a02-402e-bb83-a1ccbac059d9 button.colab-df-convert');\n",
              "        buttonEl.style.display =\n",
              "          google.colab.kernel.accessAllowed ? 'block' : 'none';\n",
              "\n",
              "        async function convertToInteractive(key) {\n",
              "          const element = document.querySelector('#df-fd3c53e4-4a02-402e-bb83-a1ccbac059d9');\n",
              "          const dataTable =\n",
              "            await google.colab.kernel.invokeFunction('convertToInteractive',\n",
              "                                                     [key], {});\n",
              "          if (!dataTable) return;\n",
              "\n",
              "          const docLinkHtml = 'Like what you see? Visit the ' +\n",
              "            '<a target=\"_blank\" href=https://colab.research.google.com/notebooks/data_table.ipynb>data table notebook</a>'\n",
              "            + ' to learn more about interactive tables.';\n",
              "          element.innerHTML = '';\n",
              "          dataTable['output_type'] = 'display_data';\n",
              "          await google.colab.output.renderOutput(dataTable, element);\n",
              "          const docLink = document.createElement('div');\n",
              "          docLink.innerHTML = docLinkHtml;\n",
              "          element.appendChild(docLink);\n",
              "        }\n",
              "      </script>\n",
              "    </div>\n",
              "  </div>\n",
              "  "
            ]
          },
          "metadata": {},
          "execution_count": 78
        }
      ],
      "source": [
        "data = load_wine(as_frame=True)\n",
        "df = data.data.copy()  # features\n",
        "# Look at the documentation (https://scikit-learn.org/stable/modules/generated/sklearn.datasets.load_wine.html)\n",
        "# and save the label in a column called 'y' in df.\n",
        "df['y'] = data.target## YOUR CODE HERE # label\n",
        "df.head()"
      ]
    },
    {
      "cell_type": "code",
      "execution_count": 79,
      "metadata": {
        "id": "NKtLICR3iXZO",
        "colab": {
          "base_uri": "https://localhost:8080/"
        },
        "outputId": "79639c1f-d9b9-4109-c3ea-02a91055d787"
      },
      "outputs": [
        {
          "output_type": "stream",
          "name": "stdout",
          "text": [
            "number of samples: 178 number of features: 13\n"
          ]
        }
      ],
      "source": [
        "#How many samples and features are there?\n",
        "\n",
        "# YOUR CODE HERE\n",
        "feat_len = len(df.columns) - 1\n",
        "print('number of samples:', len(df), 'number of features:', feat_len)"
      ]
    },
    {
      "cell_type": "code",
      "execution_count": 80,
      "metadata": {
        "id": "nSweHdOBiXZP",
        "colab": {
          "base_uri": "https://localhost:8080/"
        },
        "outputId": "b7895a5a-9c4f-4a52-b660-7e422b49c43a"
      },
      "outputs": [
        {
          "output_type": "stream",
          "name": "stdout",
          "text": [
            "59 71 48\n"
          ]
        }
      ],
      "source": [
        "# Quiz Q1\n",
        "# How many instances are there for each class? \n",
        "count0=0\n",
        "count1=0\n",
        "count2=0\n",
        "for d in df['y']:\n",
        "  if d==0:\n",
        "    count0 = count0+ 1\n",
        "  elif d==1:\n",
        "    count1 += 1\n",
        "  elif d==2:\n",
        "    count2 += 1\n",
        "print(count0,count1,count2)\n",
        "\n",
        "# YOUR CODE HERE\n"
      ]
    },
    {
      "cell_type": "code",
      "execution_count": 81,
      "metadata": {
        "id": "CNkl_UR3iXZQ",
        "colab": {
          "base_uri": "https://localhost:8080/"
        },
        "outputId": "55d61271-789d-402a-c3b0-5308149f8e4c"
      },
      "outputs": [
        {
          "output_type": "stream",
          "name": "stdout",
          "text": [
            "Feature:  alcohol = Median: \t 13.05 \t\tMean: \t 13.000617977528083 \t\tStandard Deviation: \t 0.8118265380058577\n",
            "\n",
            "\n",
            "Feature:  malic_acid = Median: \t 1.8650000000000002 \t\tMean: \t 2.336348314606741 \t\tStandard Deviation: \t 1.1171460976144627\n",
            "\n",
            "\n",
            "Feature:  ash = Median: \t 2.36 \t\tMean: \t 2.3665168539325854 \t\tStandard Deviation: \t 0.2743440090608148\n",
            "\n",
            "\n",
            "Feature:  alcalinity_of_ash = Median: \t 19.5 \t\tMean: \t 19.49494382022472 \t\tStandard Deviation: \t 3.3395637671735052\n",
            "\n",
            "\n",
            "Feature:  magnesium = Median: \t 98.0 \t\tMean: \t 99.74157303370787 \t\tStandard Deviation: \t 14.282483515295668\n",
            "\n",
            "\n",
            "Feature:  total_phenols = Median: \t 2.355 \t\tMean: \t 2.295112359550562 \t\tStandard Deviation: \t 0.6258510488339891\n",
            "\n",
            "\n",
            "Feature:  flavanoids = Median: \t 2.135 \t\tMean: \t 2.0292696629213474 \t\tStandard Deviation: \t 0.9988586850169465\n",
            "\n",
            "\n",
            "Feature:  nonflavanoid_phenols = Median: \t 0.34 \t\tMean: \t 0.36185393258426973 \t\tStandard Deviation: \t 0.12445334029667939\n",
            "\n",
            "\n",
            "Feature:  proanthocyanins = Median: \t 1.5550000000000002 \t\tMean: \t 1.5908988764044953 \t\tStandard Deviation: \t 0.5723588626747611\n",
            "\n",
            "\n",
            "Feature:  color_intensity = Median: \t 4.6899999999999995 \t\tMean: \t 5.058089882022473 \t\tStandard Deviation: \t 2.318285871822413\n",
            "\n",
            "\n",
            "Feature:  hue = Median: \t 0.965 \t\tMean: \t 0.9574494382022468 \t\tStandard Deviation: \t 0.22857156582982338\n",
            "\n",
            "\n",
            "Feature:  od280/od315_of_diluted_wines = Median: \t 2.78 \t\tMean: \t 2.6116853932584254 \t\tStandard Deviation: \t 0.7099904287650505\n",
            "\n",
            "\n",
            "Feature:  proline = Median: \t 673.5 \t\tMean: \t 746.8932584269663 \t\tStandard Deviation: \t 314.9074742768489\n",
            "\n",
            "\n"
          ]
        }
      ],
      "source": [
        "from numpy.ma.core import std\n",
        "# Calculate the means, medians, and standard deviations of each feature\n",
        "# YOUR CODE HERE\n",
        "for col in df.drop('y',axis=1):\n",
        "  print('Feature: ',col, '= Median: \\t',df[col].median(),'\\t\\tMean: \\t',df[col].mean(),'\\t\\tStandard Deviation: \\t',df[col].std())\n",
        "  print('\\n')\n"
      ]
    },
    {
      "cell_type": "code",
      "execution_count": 82,
      "metadata": {
        "id": "knoslC7IiXZR",
        "colab": {
          "base_uri": "https://localhost:8080/",
          "height": 429
        },
        "outputId": "fbfb2d66-3c81-4910-e3b6-5b1d57b0318a"
      },
      "outputs": [
        {
          "output_type": "execute_result",
          "data": {
            "text/plain": [
              "<matplotlib.axes._subplots.AxesSubplot at 0x7f1e44d83b50>"
            ]
          },
          "metadata": {},
          "execution_count": 82
        },
        {
          "output_type": "display_data",
          "data": {
            "text/plain": [
              "<Figure size 432x288 with 1 Axes>"
            ],
            "image/png": "[encoded data removed]"
          },
          "metadata": {
            "needs_background": "light"
          }
        }
      ],
      "source": [
        "# Plot a boxplot of each feature (NOT THE LABEL!!) (all in one plot -- you can do this with a single line of code).\n",
        "# Quiz Q2: Is there any feature that is in a clearly different scale than the others?\n",
        "df.boxplot(column = df.drop('y',axis=1).columns.tolist(),grid=False, rot=90)\n",
        "# YOUR CODE HERE"
      ]
    },
    {
      "cell_type": "code",
      "execution_count": 83,
      "metadata": {
        "scrolled": false,
        "id": "TPtp2IZKiXZS",
        "colab": {
          "base_uri": "https://localhost:8080/",
          "height": 553
        },
        "outputId": "edc7deb2-0188-4137-a2e9-c357743b6aa9"
      },
      "outputs": [
        {
          "output_type": "display_data",
          "data": {
            "text/plain": [
              "<Figure size 648x648 with 16 Axes>"
            ],
            "image/png": "[encoded data removed]"
          },
          "metadata": {
            "needs_background": "light"
          }
        }
      ],
      "source": [
        "# Let's look at the distributions of values of our features. Draw a histogram for each of the features\n",
        "hist=df.drop('y',axis=1).hist(figsize = (9, 9))\n"
      ]
    },
    {
      "cell_type": "markdown",
      "metadata": {
        "id": "vpirxqr9iXZT"
      },
      "source": [
        "Let's do some multivariate analysis"
      ]
    },
    {
      "cell_type": "code",
      "execution_count": 107,
      "metadata": {
        "id": "fwLc3RDdiXZU",
        "colab": {
          "base_uri": "https://localhost:8080/",
          "height": 667
        },
        "outputId": "8f001c07-f30c-40ef-85f0-9a6a367d6fea"
      },
      "outputs": [
        {
          "output_type": "execute_result",
          "data": {
            "text/plain": [
              "<matplotlib.axes._subplots.AxesSubplot at 0x7f1e451bbf90>"
            ]
          },
          "metadata": {},
          "execution_count": 107
        },
        {
          "output_type": "display_data",
          "data": {
            "text/plain": [
              "<Figure size 1080x576 with 2 Axes>"
            ],
            "image/png": "[encoded data removed]"
          },
          "metadata": {}
        }
      ],
      "source": [
        "# Calculate the correlations between each pair of variables\n",
        "\n",
        "# YOUR CODE HERE\n",
        "abc=df.drop('y',axis=1).corr()\n",
        "\n",
        "# Plot a heatmap of the correlations between pairs of FEATURES (i.e., don't include the target!)\n",
        "sns.heatmap(abc, \n",
        "        xticklabels=abc.columns,\n",
        "        yticklabels=abc.columns)\n",
        "# YOUR CODE HERE"
      ]
    },
    {
      "cell_type": "code",
      "execution_count": 113,
      "metadata": {
        "id": "AQ326VVsiXZW",
        "colab": {
          "base_uri": "https://localhost:8080/",
          "height": 131
        },
        "outputId": "9a57ab55-e353-4248-af76-f682f41c0ee4"
      },
      "outputs": [
        {
          "output_type": "error",
          "ename": "SyntaxError",
          "evalue": "ignored",
          "traceback": [
            "\u001b[0;36m  File \u001b[0;32m\"<ipython-input-113-2487e63898d3>\"\u001b[0;36m, line \u001b[0;32m15\u001b[0m\n\u001b[0;31m    print abc[-4470:-4460]\u001b[0m\n\u001b[0m            ^\u001b[0m\n\u001b[0;31mSyntaxError\u001b[0m\u001b[0;31m:\u001b[0m Missing parentheses in call to 'print'. Did you mean print(abc[-4470:-4460])?\n"
          ]
        }
      ],
      "source": [
        "# What is the highest correlation between features?\n",
        "shape = (50, 4460)\n",
        "\n",
        "abc = np.random.normal(size=shape)\n",
        "\n",
        "abc[:, 1000] += abc[:, 2000]\n",
        "\n",
        "df = pd.DataFrame(abc)\n",
        "\n",
        "c = df.abc().abs()\n",
        "\n",
        "s = c.unstack()\n",
        "so = s.sort_values(kind=\"quicksort\")\n",
        "\n",
        "print abc[-4470:-4460]\n"
      ]
    },
    {
      "cell_type": "markdown",
      "source": [
        "You should have noticed that some of the features are highly correlated. \n",
        "\n",
        "For this reason, we can run into trouble when trying to train a classifier due to multicolinearity.\n",
        "\n",
        "Let's do PCA on this dataset to remove these correlations"
      ],
      "metadata": {
        "id": "SWjkbzTWi5Ns"
      }
    },
    {
      "cell_type": "code",
      "execution_count": null,
      "metadata": {
        "id": "akqk41SwiXZX"
      },
      "outputs": [],
      "source": [
        "# Let's do PCA:\n",
        "# HINT: I suggest you attempt Q5 of the quiz and then use the function you developed\n",
        "#       in this and some of the following cells.\n",
        "\n",
        "# 1. Standardise your data using a StandardScaler. Make sure you're not scaling the 'y'!\n",
        "\n",
        "# YOUR CODE HERE\n",
        "\n",
        "# 2. Do PCA with 2 components. How much variance is retained from the original dataset?\n",
        "\n",
        "# YOUR CODE HERE\n"
      ]
    },
    {
      "cell_type": "code",
      "execution_count": null,
      "metadata": {
        "id": "k7kjv4WHiXZY"
      },
      "outputs": [],
      "source": [
        "# Plot your two components, using the label from the data to colour the points\n",
        "\n",
        "# YOUR CODE HERE\n"
      ]
    },
    {
      "cell_type": "code",
      "execution_count": null,
      "metadata": {
        "id": "bNpetshyiXZZ"
      },
      "outputs": [],
      "source": [
        "# How many components do you need to keep at least 85% of the variance in the dataset? (Q6)\n",
        "\n",
        "# YOUR CODE HERE\n"
      ]
    },
    {
      "cell_type": "code",
      "execution_count": null,
      "metadata": {
        "id": "k1eDhjN1iXZY"
      },
      "outputs": [],
      "source": [
        "# How much variance is retained if we do PCA with 3 components? (Q7)\n",
        "\n",
        "# YOUR CODE HERE\n"
      ]
    },
    {
      "cell_type": "markdown",
      "metadata": {
        "id": "AvdemHgZiXZZ"
      },
      "source": [
        "## Clustering"
      ]
    },
    {
      "cell_type": "markdown",
      "metadata": {
        "id": "7QTjJP_h7K3N"
      },
      "source": [
        "Let's see how many clusters does K-Means find.\n",
        "\n"
      ]
    },
    {
      "cell_type": "code",
      "execution_count": null,
      "metadata": {
        "id": "JNDEKVYHybim"
      },
      "outputs": [],
      "source": [
        "# Use the elbow method to select the number of clusters in your data using 3 PCs.\n",
        "\n",
        "# YOUR CODE HERE\n"
      ]
    },
    {
      "cell_type": "code",
      "execution_count": null,
      "metadata": {
        "id": "anQy-uCZiXZa"
      },
      "outputs": [],
      "source": [
        "# Now use the silhouette score to choose between the two candidate k values from the previous cell\n",
        "\n",
        "# YOUR CODE HERE\n"
      ]
    },
    {
      "cell_type": "code",
      "execution_count": null,
      "metadata": {
        "id": "YGItp0Vh7K2_"
      },
      "outputs": [],
      "source": [
        "# Visualise the first two pcs (using a scatterplot) using the labels from KMeans with your chosen value of k\n",
        "\n",
        "# YOUR CODE HERE\n"
      ]
    },
    {
      "cell_type": "markdown",
      "metadata": {
        "id": "MVVu-IUPiXZb"
      },
      "source": [
        "Now we can try to understand our clusters."
      ]
    },
    {
      "cell_type": "code",
      "execution_count": null,
      "metadata": {
        "id": "KvaUMdbB9HWK"
      },
      "outputs": [],
      "source": [
        "# In the original (before PCA and before standardisation) dataframe, add a column called 'cluster' that contains\n",
        "# the cluster assignment from above\n",
        "\n",
        "# YOUR CODE HERE\n"
      ]
    },
    {
      "cell_type": "code",
      "execution_count": null,
      "metadata": {
        "id": "Q4J3swJhiXZc"
      },
      "outputs": [],
      "source": [
        "# Do a boxplot of each feature, separating between clusters\n",
        "\n",
        "# YOUR CODE HERE\n"
      ]
    },
    {
      "cell_type": "markdown",
      "metadata": {
        "id": "XQlOvB_2iXZc"
      },
      "source": [
        "Write your observations here.\n",
        "For example: is there a clear difference between the clusters in terms of alcohol content? What about flavanoids?"
      ]
    },
    {
      "cell_type": "code",
      "execution_count": null,
      "metadata": {
        "id": "Eo6Y4Z5jiXZc"
      },
      "outputs": [],
      "source": [
        "# Feel free to keep playing with the data here!"
      ]
    }
  ],
  "metadata": {
    "colab": {
      "name": "exploration.ipynb",
      "provenance": [],
      "collapsed_sections": [],
      "include_colab_link": true
    },
    "kernelspec": {
      "display_name": "Python 3",
      "language": "python",
      "name": "python3"
    },
    "language_info": {
      "codemirror_mode": {
        "name": "ipython",
        "version": 3
      },
      "file_extension": ".py",
      "mimetype": "text/x-python",
      "name": "python",
      "nbconvert_exporter": "python",
      "pygments_lexer": "ipython3",
      "version": "3.7.10"
    }
  },
  "nbformat": 4,
  "nbformat_minor": 0
}