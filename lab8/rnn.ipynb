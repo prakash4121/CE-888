{
  "cells": [
    {
      "cell_type": "markdown",
      "metadata": {
        "id": "view-in-github",
        "colab_type": "text"
      },
      "source": [
        "<a href=\"https://colab.research.google.com/github/prakash4121/CE-888/blob/main/lab8/rnn.ipynb\" target=\"_parent\"><img src=\"https://colab.research.google.com/assets/colab-badge.svg\" alt=\"Open In Colab\"/></a>"
      ]
    },
    {
      "cell_type": "markdown",
      "source": [
        "# Learning from Sequences: Timeseries and Text\n",
        "\n",
        "Created by Dr Ana Matran-Fernandez (amatra@essex.ac.uk) for CE888 (Data Science and Decision Making)\n",
        "\n",
        "This notebook accompanies lecture 8 and illustrates recurrent neural networks on an example of a timeseries (predicting tomorrow's temperature) and a classification problem on the IMDB text dataset."
      ],
      "metadata": {
        "id": "gS1IIAS-bcb-"
      }
    },
    {
      "cell_type": "markdown",
      "source": [
        "# Imports"
      ],
      "metadata": {
        "id": "0myiQp20cxRK"
      }
    },
    {
      "cell_type": "code",
      "execution_count": 4,
      "metadata": {
        "id": "1J0bYBQ7_a0L"
      },
      "outputs": [],
      "source": [
        "# imports\n",
        "import numpy as np\n",
        "import matplotlib.pyplot as plt\n",
        "import os\n",
        "import pandas as pd\n",
        "from sklearn.model_selection import train_test_split"
      ]
    },
    {
      "cell_type": "code",
      "execution_count": 5,
      "metadata": {
        "id": "U0NPDv7X_a0M"
      },
      "outputs": [],
      "source": [
        "# tensorflow imports\n",
        "from tensorflow import keras\n",
        "from keras import layers, models\n",
        "from keras.callbacks import EarlyStopping, ModelCheckpoint"
      ]
    },
    {
      "cell_type": "markdown",
      "source": [
        "# Timeseries"
      ],
      "metadata": {
        "id": "xaiw_VZjbtSH"
      }
    },
    {
      "cell_type": "code",
      "execution_count": 7,
      "metadata": {
        "colab": {
          "base_uri": "https://localhost:8080/",
          "height": 424
        },
        "id": "iA_R1Q-K_a0N",
        "outputId": "06f6d048-428b-44c3-e59e-09f3ab7bcf53"
      },
      "outputs": [
        {
          "output_type": "execute_result",
          "data": {
            "text/plain": [
              "                  date  radiation_avg  precip  wind_avg  wind_max  temp_avg  \\\n",
              "0     14/05/2014 00:00            159     0.0       1.4       3.3     14.27   \n",
              "1     15/05/2014 00:00            280     0.0       0.6       2.3     13.51   \n",
              "2     16/05/2014 00:00            186     3.4       0.8       2.7     15.65   \n",
              "3     17/05/2014 00:00            221     0.0       1.0       3.3     17.46   \n",
              "4     18/05/2014 00:00            255     0.0       2.1       5.5     16.85   \n",
              "...                ...            ...     ...       ...       ...       ...   \n",
              "2551  17/05/2021 00:00            196     1.4       2.2       5.5     10.51   \n",
              "2552  17/05/2021 00:00            173     2.8       1.8       5.5     10.80   \n",
              "2553  18/05/2021 00:00            311     0.0       1.4       5.0     10.29   \n",
              "2554  19/05/2021 00:00            232     6.6       1.8       5.5     11.39   \n",
              "2555  20/05/2021 00:00             44     0.0       0.5       2.7      6.35   \n",
              "\n",
              "      humidity_avg  \n",
              "0            64.95  \n",
              "1            72.91  \n",
              "2            74.69  \n",
              "3            71.42  \n",
              "4            74.45  \n",
              "...            ...  \n",
              "2551         99.86  \n",
              "2552         99.86  \n",
              "2553         92.94  \n",
              "2554         90.32  \n",
              "2555         99.86  \n",
              "\n",
              "[2556 rows x 7 columns]"
            ],
            "text/html": [
              "\n",
              "  <div id=\"df-78d0e6b4-855d-4e91-9fc4-97a5bbf8583d\">\n",
              "    <div class=\"colab-df-container\">\n",
              "      <div>\n",
              "<style scoped>\n",
              "    .dataframe tbody tr th:only-of-type {\n",
              "        vertical-align: middle;\n",
              "    }\n",
              "\n",
              "    .dataframe tbody tr th {\n",
              "        vertical-align: top;\n",
              "    }\n",
              "\n",
              "    .dataframe thead th {\n",
              "        text-align: right;\n",
              "    }\n",
              "</style>\n",
              "<table border=\"1\" class=\"dataframe\">\n",
              "  <thead>\n",
              "    <tr style=\"text-align: right;\">\n",
              "      <th></th>\n",
              "      <th>date</th>\n",
              "      <th>radiation_avg</th>\n",
              "      <th>precip</th>\n",
              "      <th>wind_avg</th>\n",
              "      <th>wind_max</th>\n",
              "      <th>temp_avg</th>\n",
              "      <th>humidity_avg</th>\n",
              "    </tr>\n",
              "  </thead>\n",
              "  <tbody>\n",
              "    <tr>\n",
              "      <th>0</th>\n",
              "      <td>14/05/2014 00:00</td>\n",
              "      <td>159</td>\n",
              "      <td>0.0</td>\n",
              "      <td>1.4</td>\n",
              "      <td>3.3</td>\n",
              "      <td>14.27</td>\n",
              "      <td>64.95</td>\n",
              "    </tr>\n",
              "    <tr>\n",
              "      <th>1</th>\n",
              "      <td>15/05/2014 00:00</td>\n",
              "      <td>280</td>\n",
              "      <td>0.0</td>\n",
              "      <td>0.6</td>\n",
              "      <td>2.3</td>\n",
              "      <td>13.51</td>\n",
              "      <td>72.91</td>\n",
              "    </tr>\n",
              "    <tr>\n",
              "      <th>2</th>\n",
              "      <td>16/05/2014 00:00</td>\n",
              "      <td>186</td>\n",
              "      <td>3.4</td>\n",
              "      <td>0.8</td>\n",
              "      <td>2.7</td>\n",
              "      <td>15.65</td>\n",
              "      <td>74.69</td>\n",
              "    </tr>\n",
              "    <tr>\n",
              "      <th>3</th>\n",
              "      <td>17/05/2014 00:00</td>\n",
              "      <td>221</td>\n",
              "      <td>0.0</td>\n",
              "      <td>1.0</td>\n",
              "      <td>3.3</td>\n",
              "      <td>17.46</td>\n",
              "      <td>71.42</td>\n",
              "    </tr>\n",
              "    <tr>\n",
              "      <th>4</th>\n",
              "      <td>18/05/2014 00:00</td>\n",
              "      <td>255</td>\n",
              "      <td>0.0</td>\n",
              "      <td>2.1</td>\n",
              "      <td>5.5</td>\n",
              "      <td>16.85</td>\n",
              "      <td>74.45</td>\n",
              "    </tr>\n",
              "    <tr>\n",
              "      <th>...</th>\n",
              "      <td>...</td>\n",
              "      <td>...</td>\n",
              "      <td>...</td>\n",
              "      <td>...</td>\n",
              "      <td>...</td>\n",
              "      <td>...</td>\n",
              "      <td>...</td>\n",
              "    </tr>\n",
              "    <tr>\n",
              "      <th>2551</th>\n",
              "      <td>17/05/2021 00:00</td>\n",
              "      <td>196</td>\n",
              "      <td>1.4</td>\n",
              "      <td>2.2</td>\n",
              "      <td>5.5</td>\n",
              "      <td>10.51</td>\n",
              "      <td>99.86</td>\n",
              "    </tr>\n",
              "    <tr>\n",
              "      <th>2552</th>\n",
              "      <td>17/05/2021 00:00</td>\n",
              "      <td>173</td>\n",
              "      <td>2.8</td>\n",
              "      <td>1.8</td>\n",
              "      <td>5.5</td>\n",
              "      <td>10.80</td>\n",
              "      <td>99.86</td>\n",
              "    </tr>\n",
              "    <tr>\n",
              "      <th>2553</th>\n",
              "      <td>18/05/2021 00:00</td>\n",
              "      <td>311</td>\n",
              "      <td>0.0</td>\n",
              "      <td>1.4</td>\n",
              "      <td>5.0</td>\n",
              "      <td>10.29</td>\n",
              "      <td>92.94</td>\n",
              "    </tr>\n",
              "    <tr>\n",
              "      <th>2554</th>\n",
              "      <td>19/05/2021 00:00</td>\n",
              "      <td>232</td>\n",
              "      <td>6.6</td>\n",
              "      <td>1.8</td>\n",
              "      <td>5.5</td>\n",
              "      <td>11.39</td>\n",
              "      <td>90.32</td>\n",
              "    </tr>\n",
              "    <tr>\n",
              "      <th>2555</th>\n",
              "      <td>20/05/2021 00:00</td>\n",
              "      <td>44</td>\n",
              "      <td>0.0</td>\n",
              "      <td>0.5</td>\n",
              "      <td>2.7</td>\n",
              "      <td>6.35</td>\n",
              "      <td>99.86</td>\n",
              "    </tr>\n",
              "  </tbody>\n",
              "</table>\n",
              "<p>2556 rows × 7 columns</p>\n",
              "</div>\n",
              "      <button class=\"colab-df-convert\" onclick=\"convertToInteractive('df-78d0e6b4-855d-4e91-9fc4-97a5bbf8583d')\"\n",
              "              title=\"Convert this dataframe to an interactive table.\"\n",
              "              style=\"display:none;\">\n",
              "        \n",
              "  <svg xmlns=\"http://www.w3.org/2000/svg\" height=\"24px\"viewBox=\"0 0 24 24\"\n",
              "       width=\"24px\">\n",
              "    <path d=\"M0 0h24v24H0V0z\" fill=\"none\"/>\n",
              "    <path d=\"M18.56 5.44l.94 2.06.94-2.06 2.06-.94-2.06-.94-.94-2.06-.94 2.06-2.06.94zm-11 1L8.5 8.5l.94-2.06 2.06-.94-2.06-.94L8.5 2.5l-.94 2.06-2.06.94zm10 10l.94 2.06.94-2.06 2.06-.94-2.06-.94-.94-2.06-.94 2.06-2.06.94z\"/><path d=\"M17.41 7.96l-1.37-1.37c-.4-.4-.92-.59-1.43-.59-.52 0-1.04.2-1.43.59L10.3 9.45l-7.72 7.72c-.78.78-.78 2.05 0 2.83L4 21.41c.39.39.9.59 1.41.59.51 0 1.02-.2 1.41-.59l7.78-7.78 2.81-2.81c.8-.78.8-2.07 0-2.86zM5.41 20L4 18.59l7.72-7.72 1.47 1.35L5.41 20z\"/>\n",
              "  </svg>\n",
              "      </button>\n",
              "      \n",
              "  <style>\n",
              "    .colab-df-container {\n",
              "      display:flex;\n",
              "      flex-wrap:wrap;\n",
              "      gap: 12px;\n",
              "    }\n",
              "\n",
              "    .colab-df-convert {\n",
              "      background-color: #E8F0FE;\n",
              "      border: none;\n",
              "      border-radius: 50%;\n",
              "      cursor: pointer;\n",
              "      display: none;\n",
              "      fill: #1967D2;\n",
              "      height: 32px;\n",
              "      padding: 0 0 0 0;\n",
              "      width: 32px;\n",
              "    }\n",
              "\n",
              "    .colab-df-convert:hover {\n",
              "      background-color: #E2EBFA;\n",
              "      box-shadow: 0px 1px 2px rgba(60, 64, 67, 0.3), 0px 1px 3px 1px rgba(60, 64, 67, 0.15);\n",
              "      fill: #174EA6;\n",
              "    }\n",
              "\n",
              "    [theme=dark] .colab-df-convert {\n",
              "      background-color: #3B4455;\n",
              "      fill: #D2E3FC;\n",
              "    }\n",
              "\n",
              "    [theme=dark] .colab-df-convert:hover {\n",
              "      background-color: #434B5C;\n",
              "      box-shadow: 0px 1px 3px 1px rgba(0, 0, 0, 0.15);\n",
              "      filter: drop-shadow(0px 1px 2px rgba(0, 0, 0, 0.3));\n",
              "      fill: #FFFFFF;\n",
              "    }\n",
              "  </style>\n",
              "\n",
              "      <script>\n",
              "        const buttonEl =\n",
              "          document.querySelector('#df-78d0e6b4-855d-4e91-9fc4-97a5bbf8583d button.colab-df-convert');\n",
              "        buttonEl.style.display =\n",
              "          google.colab.kernel.accessAllowed ? 'block' : 'none';\n",
              "\n",
              "        async function convertToInteractive(key) {\n",
              "          const element = document.querySelector('#df-78d0e6b4-855d-4e91-9fc4-97a5bbf8583d');\n",
              "          const dataTable =\n",
              "            await google.colab.kernel.invokeFunction('convertToInteractive',\n",
              "                                                     [key], {});\n",
              "          if (!dataTable) return;\n",
              "\n",
              "          const docLinkHtml = 'Like what you see? Visit the ' +\n",
              "            '<a target=\"_blank\" href=https://colab.research.google.com/notebooks/data_table.ipynb>data table notebook</a>'\n",
              "            + ' to learn more about interactive tables.';\n",
              "          element.innerHTML = '';\n",
              "          dataTable['output_type'] = 'display_data';\n",
              "          await google.colab.output.renderOutput(dataTable, element);\n",
              "          const docLink = document.createElement('div');\n",
              "          docLink.innerHTML = docLinkHtml;\n",
              "          element.appendChild(docLink);\n",
              "        }\n",
              "      </script>\n",
              "    </div>\n",
              "  </div>\n",
              "  "
            ]
          },
          "metadata": {},
          "execution_count": 7
        }
      ],
      "source": [
        "df = pd.read_csv('https://raw.githubusercontent.com/albanda/CE888/master/lab8/weather.csv')\n",
        "df.drop(['temp_max', 'temp_min'], axis=1, inplace=True)\n",
        "df"
      ]
    },
    {
      "cell_type": "code",
      "execution_count": 8,
      "metadata": {
        "colab": {
          "base_uri": "https://localhost:8080/",
          "height": 279
        },
        "id": "nzsytNAh_a0N",
        "outputId": "520def80-6baa-44b5-9c2b-31150c322faf"
      },
      "outputs": [
        {
          "output_type": "display_data",
          "data": {
            "text/plain": [
              "<Figure size 432x288 with 1 Axes>"
            ],
            "image/png": "[encoded data removed]"
          },
          "metadata": {
            "needs_background": "light"
          }
        }
      ],
      "source": [
        "plt.plot(range(len(df)), df['temp_avg'])\n",
        "plt.xlabel('Temporal range')\n",
        "plt.ylabel('Average temperature (C) (7 years)')\n",
        "plt.savefig('temperature_over_time.pdf', bbox_inches='tight')"
      ]
    },
    {
      "cell_type": "code",
      "execution_count": 9,
      "metadata": {
        "colab": {
          "base_uri": "https://localhost:8080/",
          "height": 279
        },
        "id": "ysbM2n99_a0N",
        "outputId": "8d0e1ad2-72ce-4151-899e-6327a8a44831"
      },
      "outputs": [
        {
          "output_type": "display_data",
          "data": {
            "text/plain": [
              "<Figure size 432x288 with 1 Axes>"
            ],
            "image/png": "[encoded data removed]"
          },
          "metadata": {
            "needs_background": "light"
          }
        }
      ],
      "source": [
        "# Look at the first 2 years\n",
        "length = 2*365\n",
        "plt.plot(range(length), df['temp_avg'][:length])\n",
        "plt.xlabel('Temporal range')\n",
        "plt.ylabel('Average temperature (C) (2 years)')\n",
        "plt.savefig('temperature_over_time_2y.pdf', bbox_inches='tight')"
      ]
    },
    {
      "cell_type": "markdown",
      "metadata": {
        "id": "ikyqi2m7_a0O"
      },
      "source": [
        "We have clear periodicity every year. In the previous plot we saw 7 cycles (7 years). Here we see 2.\n",
        "\n",
        "Always look for periodicity in your timeseries. There will always be daily and yearly cycles. Check these patterns.\n",
        "\n",
        "Another issue with timeseries is dividing the dataset into train/validation/test sets. We definitely cannot shuffle the data, and we need to be very careful with data leakage (using data from the future)."
      ]
    },
    {
      "cell_type": "markdown",
      "metadata": {
        "id": "1fxuW2ne_a0P"
      },
      "source": [
        "## Data prep\n",
        "\n",
        "We'll try to predict the average temperature of tomorrow based on data from the past.\n",
        "\n",
        "To avoid data leakage, we're going to use a simple approach: use the first 50% of data for training, the next 30% for validation, and the final 20% for testing.\n"
      ]
    },
    {
      "cell_type": "code",
      "execution_count": 10,
      "metadata": {
        "colab": {
          "base_uri": "https://localhost:8080/"
        },
        "id": "vofGsYen_a0P",
        "outputId": "bdad4cbc-cd4c-4f92-c0dc-5dadf3720c86"
      },
      "outputs": [
        {
          "output_type": "stream",
          "name": "stdout",
          "text": [
            "Samples for training: 1278; validation: 766; test: 512\n"
          ]
        }
      ],
      "source": [
        "n_tr, n_val = int(0.5*len(df)), int(0.3*len(df))\n",
        "n_te = len(df) - n_tr - n_val\n",
        "print('Samples for training: %d; validation: %d; test: %d' % (n_tr, n_val, n_te))"
      ]
    },
    {
      "cell_type": "code",
      "execution_count": 11,
      "metadata": {
        "colab": {
          "base_uri": "https://localhost:8080/"
        },
        "id": "lsMDT2Jq_a0P",
        "outputId": "00e266f6-f924-404a-bc16-3f57b9ae1d52"
      },
      "outputs": [
        {
          "output_type": "stream",
          "name": "stdout",
          "text": [
            "(2556, 6)\n"
          ]
        }
      ],
      "source": [
        "# Get the data from the dataframe (dropping date column)\n",
        "data = df.iloc[:, 1:].values\n",
        "print(data.shape)\n",
        "assert data.shape[0] == len(df)\n",
        "assert data.shape[1] == len(df.columns)-1, \"Are you sure you're dropping the date?\"\n",
        "# We need to normalise our time series. Calculate mean and std from TRAINING DATA ONLY. \n",
        "# We'll use it on the validation and test sets.\n",
        "mean_tr = data[:n_tr, :].mean(axis=0)\n",
        "std_tr = data[:n_tr, :].std(axis=0)\n",
        "data = (data - mean_tr) / std_tr\n",
        "\n",
        "\n",
        "y = df['temp_avg'].values.reshape(-1, 1)\n",
        "\n",
        "# index of the column that contains the avg_temp\n",
        "y_idx = 4"
      ]
    },
    {
      "cell_type": "code",
      "source": [
        "data[:20, y_idx] * std_tr[y_idx] + mean_tr[y_idx]"
      ],
      "metadata": {
        "colab": {
          "base_uri": "https://localhost:8080/"
        },
        "id": "1VJAcdfICLi1",
        "outputId": "e3bbd392-0876-4440-bf3c-7e46d08b6dca"
      },
      "execution_count": 12,
      "outputs": [
        {
          "output_type": "execute_result",
          "data": {
            "text/plain": [
              "array([14.27, 13.51, 15.65, 17.46, 16.85, 18.26, 17.35, 15.55, 14.52,\n",
              "       13.93, 11.48, 13.63, 12.81, 12.4 , 13.67, 14.15, 13.22, 12.21,\n",
              "       15.53, 14.52])"
            ]
          },
          "metadata": {},
          "execution_count": 12
        }
      ]
    },
    {
      "cell_type": "code",
      "source": [
        "y[5:25]"
      ],
      "metadata": {
        "colab": {
          "base_uri": "https://localhost:8080/"
        },
        "id": "xN-YJyEeCUv9",
        "outputId": "9cf43612-c0f3-4864-f113-a9a5531e0904"
      },
      "execution_count": null,
      "outputs": [
        {
          "output_type": "execute_result",
          "data": {
            "text/plain": [
              "array([[18.26],\n",
              "       [17.35],\n",
              "       [15.55],\n",
              "       [14.52],\n",
              "       [13.93],\n",
              "       [11.48],\n",
              "       [13.63],\n",
              "       [12.81],\n",
              "       [12.4 ],\n",
              "       [13.67],\n",
              "       [14.15],\n",
              "       [13.22],\n",
              "       [12.21],\n",
              "       [15.53],\n",
              "       [14.52],\n",
              "       [15.35],\n",
              "       [12.29],\n",
              "       [13.88],\n",
              "       [15.13],\n",
              "       [17.29]])"
            ]
          },
          "metadata": {},
          "execution_count": 7
        }
      ]
    },
    {
      "cell_type": "code",
      "execution_count": 13,
      "metadata": {
        "id": "K_JGeiAs_a0Q"
      },
      "outputs": [],
      "source": [
        "# We'll use a Dataset from keras to pass our data\n",
        "sampling_rate = 1  # we keep all data points\n",
        "sequence_length = 14  # 2 weeks to predict tomorrow's temperature\n",
        "delay = sampling_rate * sequence_length  # the target is the day after the end of the sequence\n",
        "batch_size = 16"
      ]
    },
    {
      "cell_type": "code",
      "execution_count": 14,
      "metadata": {
        "colab": {
          "base_uri": "https://localhost:8080/"
        },
        "id": "cRDGWNYl_a0Q",
        "outputId": "c70d4c18-ad10-4a29-9f5c-aea9a5ebcbb5"
      },
      "outputs": [
        {
          "output_type": "stream",
          "name": "stdout",
          "text": [
            "X shape: (16, 14, 6)\n",
            "target shape: (16, 1)\n"
          ]
        }
      ],
      "source": [
        "train_dataset = keras.utils.timeseries_dataset_from_array(\n",
        "    data[:-delay],\n",
        "    targets=y[delay:],\n",
        "    sampling_rate=sampling_rate, sequence_length=sequence_length,\n",
        "    batch_size=batch_size,\n",
        "    start_index=0, end_index=n_tr  # first 50% for training\n",
        "    )\n",
        "\n",
        "val_dataset = keras.utils.timeseries_dataset_from_array(\n",
        "    data[:-delay],\n",
        "    targets=y[delay:],\n",
        "    sampling_rate=sampling_rate, sequence_length=sequence_length,\n",
        "    batch_size=batch_size,\n",
        "    start_index=n_tr, end_index=n_tr+n_val  # 50%-80% for validation\n",
        "    )\n",
        "\n",
        "test_dataset = keras.utils.timeseries_dataset_from_array(\n",
        "    data[:-delay],\n",
        "    targets=y[delay:],\n",
        "    sampling_rate=sampling_rate, sequence_length=sequence_length,\n",
        "    batch_size=batch_size,\n",
        "    start_index=n_tr+n_val  # last 20% for test\n",
        "    )\n",
        "\n",
        "for X, target in train_dataset:\n",
        "    print(\"X shape:\", X.shape)\n",
        "    print(\"target shape:\", target.shape)\n",
        "    #print(X[:, :, y_idx] * std_tr[y_idx] + mean_tr[y_idx])\n",
        "    #print(target)\n",
        "    break  # so we only print once"
      ]
    },
    {
      "cell_type": "code",
      "source": [
        "# Function to plot history with neural networks\n",
        "def plot_hist_regression(hist, y):\n",
        "  n_ = len(hist.history['mae'])\n",
        "  plt.plot(range(1, n_+1), np.asarray(hist.history['mae']), 'bo', label='MAE on training set')\n",
        "  plt.plot(range(1, n_+1), np.asarray(hist.history['val_mae']), 'b', label='MAE on validation set')\n",
        "  plt.legend()\n",
        "  plt.xlabel(\"Epoch\") \n",
        "  plt.ylabel(\"MAE (degrees)\")\n",
        "  plt.axhline(y=y)\n",
        "  plt.show()\n"
      ],
      "metadata": {
        "id": "u_v2rAW_W4kQ"
      },
      "execution_count": 15,
      "outputs": []
    },
    {
      "cell_type": "markdown",
      "metadata": {
        "id": "WlhjIvZR_a0Q"
      },
      "source": [
        "## Establishing a baseline\n"
      ]
    },
    {
      "cell_type": "markdown",
      "source": [
        "### Common sense, no ML baseline\n",
        "\n",
        "- Sanity check\n",
        "- To establish whether ML methods are actually any good\n",
        "\n",
        "Tomorrow's temperature is likely to be close to today's: let's predict that the temperature 24 hours from now will be equal to the temperature right now.\n",
        "\n",
        "We'll use the MAE as metric"
      ],
      "metadata": {
        "id": "rloJamyvWPWj"
      }
    },
    {
      "cell_type": "code",
      "execution_count": 16,
      "metadata": {
        "colab": {
          "base_uri": "https://localhost:8080/"
        },
        "id": "MUY5acIf_a0Q",
        "outputId": "f5460432-05dc-48ce-cc4d-11754f931427"
      },
      "outputs": [
        {
          "output_type": "stream",
          "name": "stdout",
          "text": [
            "MAE on train set = 2.56 (degrees Celsius)\n",
            "MAE on validation set = 2.69 (degrees Celsius)\n",
            "MAE on test set = 2.85 (degrees Celsius)\n"
          ]
        }
      ],
      "source": [
        "def naive_method(dataset, mean, std):\n",
        "    error = 0\n",
        "    samples = 0\n",
        "    count = 0\n",
        "    for X, target in dataset:\n",
        "        pred = X[:, -1, y_idx] * std + mean  # predict last available temperature and un-standardise\n",
        "        #print(X.shape, target.shape, pred.shape)  # [batch_size, sequence_length, n_feats]\n",
        "        #print(X[:, -1, y_idx] * std + mean, target)\n",
        "        error += np.sum(np.abs(pred - target))\n",
        "        samples += X.shape[0]  # batch_size\n",
        "        count += 1\n",
        "    return error / samples / batch_size # average\n",
        "\n",
        "\n",
        "print('MAE on train set = %.2f (degrees Celsius)' % naive_method(train_dataset, mean_tr[y_idx], std_tr[y_idx]))\n",
        "print('MAE on validation set = %.2f (degrees Celsius)' % naive_method(val_dataset, mean_tr[y_idx], std_tr[y_idx]))\n",
        "print('MAE on test set = %.2f (degrees Celsius)' % naive_method(test_dataset, mean_tr[y_idx], std_tr[y_idx]))\n",
        "# Save MAE on validation for later\n",
        "baseline = naive_method(val_dataset, mean_tr[y_idx], std_tr[y_idx])"
      ]
    },
    {
      "cell_type": "markdown",
      "source": [
        "This baseline achieves a validation MAE of 2.69 degrees and a test MAE of 2.85 degrees. So if we assume that tomorrow's temperature will be the same as today's, we'll be off by less than 3 degrees on average.\n",
        "\n",
        "Not too bad, but surely we can do better!"
      ],
      "metadata": {
        "id": "znycUtxiJmAF"
      }
    },
    {
      "cell_type": "markdown",
      "metadata": {
        "id": "7c-duA1Z_a0R"
      },
      "source": [
        "### Simple ML baseline\n",
        "\n",
        "\n"
      ]
    },
    {
      "cell_type": "code",
      "source": [
        "# To get some practice with neural networks, we'll try a 1-layer NN with nothing fancy.\n",
        "\n",
        "model_dense = models.Sequential()\n",
        "model_dense.add(layers.Flatten(input_shape=(sequence_length, len(df.columns)-1)))  # we need to specify the input shape or we won't be able to see the summary\n",
        "model_dense.add(layers.Dense(10, activation='relu'))\n",
        "model_dense.add(layers.Dense(1))\n",
        "\n",
        "model_dense.summary()"
      ],
      "metadata": {
        "colab": {
          "base_uri": "https://localhost:8080/"
        },
        "id": "fWGqpICHJlRe",
        "outputId": "0891ece7-5905-47c7-ae70-d90dbc022fa7"
      },
      "execution_count": 17,
      "outputs": [
        {
          "output_type": "stream",
          "name": "stdout",
          "text": [
            "Model: \"sequential\"\n",
            "_________________________________________________________________\n",
            " Layer (type)                Output Shape              Param #   \n",
            "=================================================================\n",
            " flatten (Flatten)           (None, 84)                0         \n",
            "                                                                 \n",
            " dense (Dense)               (None, 10)                850       \n",
            "                                                                 \n",
            " dense_1 (Dense)             (None, 1)                 11        \n",
            "                                                                 \n",
            "=================================================================\n",
            "Total params: 861\n",
            "Trainable params: 861\n",
            "Non-trainable params: 0\n",
            "_________________________________________________________________\n"
          ]
        }
      ]
    },
    {
      "cell_type": "code",
      "source": [
        "n_epochs = 20\n",
        "\n",
        "model_dense.compile(optimizer='rmsprop', loss='mse', metrics=['mae'])\n",
        "history_dense = model_dense.fit(train_dataset, epochs=n_epochs, validation_data=val_dataset)"
      ],
      "metadata": {
        "colab": {
          "base_uri": "https://localhost:8080/"
        },
        "id": "p0Hz1rX8LMfT",
        "outputId": "c12f0ed0-3f2f-44c7-ec99-c08e0f019080"
      },
      "execution_count": 18,
      "outputs": [
        {
          "output_type": "stream",
          "name": "stdout",
          "text": [
            "Epoch 1/20\n",
            "80/80 [==============================] - 2s 13ms/step - loss: 146.1325 - mae: 10.7785 - val_loss: 128.0499 - val_mae: 9.8163\n",
            "Epoch 2/20\n",
            "80/80 [==============================] - 1s 11ms/step - loss: 117.9645 - mae: 9.6249 - val_loss: 101.4316 - val_mae: 8.6159\n",
            "Epoch 3/20\n",
            "80/80 [==============================] - 1s 9ms/step - loss: 89.0566 - mae: 8.3047 - val_loss: 74.0730 - val_mae: 7.2967\n",
            "Epoch 4/20\n",
            "80/80 [==============================] - 1s 7ms/step - loss: 61.6414 - mae: 6.8420 - val_loss: 50.1945 - val_mae: 5.9367\n",
            "Epoch 5/20\n",
            "80/80 [==============================] - 1s 7ms/step - loss: 41.7189 - mae: 5.5169 - val_loss: 35.7432 - val_mae: 4.8193\n",
            "Epoch 6/20\n",
            "80/80 [==============================] - 1s 9ms/step - loss: 32.7823 - mae: 4.7305 - val_loss: 29.8976 - val_mae: 4.3407\n",
            "Epoch 7/20\n",
            "80/80 [==============================] - 1s 7ms/step - loss: 29.9283 - mae: 4.4702 - val_loss: 27.8837 - val_mae: 4.1787\n",
            "Epoch 8/20\n",
            "80/80 [==============================] - 1s 7ms/step - loss: 28.1570 - mae: 4.3265 - val_loss: 26.5148 - val_mae: 4.0641\n",
            "Epoch 9/20\n",
            "80/80 [==============================] - 1s 8ms/step - loss: 26.4389 - mae: 4.1884 - val_loss: 25.1565 - val_mae: 3.9493\n",
            "Epoch 10/20\n",
            "80/80 [==============================] - 1s 9ms/step - loss: 24.7056 - mae: 4.0470 - val_loss: 23.7709 - val_mae: 3.8293\n",
            "Epoch 11/20\n",
            "80/80 [==============================] - 1s 7ms/step - loss: 23.0173 - mae: 3.9069 - val_loss: 22.3757 - val_mae: 3.7059\n",
            "Epoch 12/20\n",
            "80/80 [==============================] - 1s 8ms/step - loss: 21.4133 - mae: 3.7663 - val_loss: 21.0280 - val_mae: 3.5836\n",
            "Epoch 13/20\n",
            "80/80 [==============================] - 1s 7ms/step - loss: 19.9088 - mae: 3.6295 - val_loss: 19.7779 - val_mae: 3.4764\n",
            "Epoch 14/20\n",
            "80/80 [==============================] - 1s 7ms/step - loss: 18.5484 - mae: 3.5016 - val_loss: 18.6254 - val_mae: 3.3795\n",
            "Epoch 15/20\n",
            "80/80 [==============================] - 1s 9ms/step - loss: 17.3226 - mae: 3.3828 - val_loss: 17.5888 - val_mae: 3.2918\n",
            "Epoch 16/20\n",
            "80/80 [==============================] - 1s 9ms/step - loss: 16.2201 - mae: 3.2747 - val_loss: 16.6519 - val_mae: 3.2125\n",
            "Epoch 17/20\n",
            "80/80 [==============================] - 1s 8ms/step - loss: 15.2210 - mae: 3.1730 - val_loss: 15.8334 - val_mae: 3.1393\n",
            "Epoch 18/20\n",
            "80/80 [==============================] - 1s 9ms/step - loss: 14.3278 - mae: 3.0789 - val_loss: 15.1025 - val_mae: 3.0709\n",
            "Epoch 19/20\n",
            "80/80 [==============================] - 1s 7ms/step - loss: 13.5536 - mae: 2.9939 - val_loss: 14.4950 - val_mae: 3.0134\n",
            "Epoch 20/20\n",
            "80/80 [==============================] - 1s 7ms/step - loss: 12.8700 - mae: 2.9164 - val_loss: 13.9684 - val_mae: 2.9609\n"
          ]
        }
      ]
    },
    {
      "cell_type": "code",
      "source": [
        "# Plot MAE cures for validation and training\n",
        "plot_hist_regression(history_dense, baseline)"
      ],
      "metadata": {
        "colab": {
          "base_uri": "https://localhost:8080/",
          "height": 283
        },
        "id": "aBRYn-AKMCi4",
        "outputId": "7c1891b1-da33-4052-e71b-e0876c7bdbca"
      },
      "execution_count": null,
      "outputs": [
        {
          "output_type": "display_data",
          "data": {
            "image/png": "[encoded data removed]",
            "text/plain": [
              "<Figure size 432x288 with 1 Axes>"
            ]
          },
          "metadata": {
            "needs_background": "light"
          }
        }
      ]
    },
    {
      "cell_type": "markdown",
      "source": [
        "Validation loss is worse than what we had with our common-sense baseline, and we're already overfitting (MAE on training set is lower than on validation set). It turns out our previous baseline is not as easy to outperform as we thought!\n",
        "\n",
        "Remember our 'hypothesis space'? Using 2 Dense layers doesn't seem to be very useful in this case. We need other types of layers for this problem."
      ],
      "metadata": {
        "id": "1EJywOA5NJa9"
      }
    },
    {
      "cell_type": "code",
      "source": [
        "# We know that CNNs take advantage of neighbouring values, so why don't we try that?\n",
        "\n",
        "# In addition to the Conv2D layers we saw last week, there are Conv1D and Conv3D layers. \n",
        "# Conv1D layers rely on 1D windows that slide across an input sequence (imagine a 1D image)\n",
        "\n",
        "model_cnn = models.Sequential()\n",
        "model_cnn.add(layers.Conv1D(8, 7, activation='relu', input_shape=(sequence_length, len(df.columns)-1)))\n",
        "model_cnn.add(layers.MaxPooling1D(2))\n",
        "model_cnn.add(layers.Conv1D(8, 3, activation='relu'))\n",
        "model_cnn.add(layers.MaxPooling1D(2))\n",
        "model_cnn.add(layers.GlobalAveragePooling1D())\n",
        "model_cnn.add(layers.Dense(1))\n",
        "\n",
        "model_cnn.summary()"
      ],
      "metadata": {
        "colab": {
          "base_uri": "https://localhost:8080/"
        },
        "id": "k6PADykQPIjq",
        "outputId": "681cbc99-b9d2-4e0f-90d3-97c2035612c5"
      },
      "execution_count": 19,
      "outputs": [
        {
          "output_type": "stream",
          "name": "stdout",
          "text": [
            "Model: \"sequential_1\"\n",
            "_________________________________________________________________\n",
            " Layer (type)                Output Shape              Param #   \n",
            "=================================================================\n",
            " conv1d (Conv1D)             (None, 8, 8)              344       \n",
            "                                                                 \n",
            " max_pooling1d (MaxPooling1D  (None, 4, 8)             0         \n",
            " )                                                               \n",
            "                                                                 \n",
            " conv1d_1 (Conv1D)           (None, 2, 8)              200       \n",
            "                                                                 \n",
            " max_pooling1d_1 (MaxPooling  (None, 1, 8)             0         \n",
            " 1D)                                                             \n",
            "                                                                 \n",
            " global_average_pooling1d (G  (None, 8)                0         \n",
            " lobalAveragePooling1D)                                          \n",
            "                                                                 \n",
            " dense_2 (Dense)             (None, 1)                 9         \n",
            "                                                                 \n",
            "=================================================================\n",
            "Total params: 553\n",
            "Trainable params: 553\n",
            "Non-trainable params: 0\n",
            "_________________________________________________________________\n"
          ]
        }
      ]
    },
    {
      "cell_type": "code",
      "source": [
        "model_cnn.compile(optimizer='rmsprop', loss='mse', metrics=['mae'])\n",
        "history_cnn = model_cnn.fit(train_dataset, epochs=n_epochs,\n",
        "                            validation_data=val_dataset)"
      ],
      "metadata": {
        "colab": {
          "base_uri": "https://localhost:8080/"
        },
        "id": "PSGRJSulQs22",
        "outputId": "3e28619e-4ffd-4ea1-9963-bfd2a161f415"
      },
      "execution_count": 20,
      "outputs": [
        {
          "output_type": "stream",
          "name": "stdout",
          "text": [
            "Epoch 1/20\n",
            "80/80 [==============================] - 1s 9ms/step - loss: 114.7166 - mae: 9.5893 - val_loss: 85.6291 - val_mae: 8.2135\n",
            "Epoch 2/20\n",
            "80/80 [==============================] - 1s 7ms/step - loss: 51.7030 - mae: 6.2795 - val_loss: 31.0868 - val_mae: 4.7222\n",
            "Epoch 3/20\n",
            "80/80 [==============================] - 1s 7ms/step - loss: 23.6457 - mae: 3.9291 - val_loss: 18.6303 - val_mae: 3.4004\n",
            "Epoch 4/20\n",
            "80/80 [==============================] - 1s 7ms/step - loss: 18.2220 - mae: 3.4307 - val_loss: 16.4693 - val_mae: 3.0948\n",
            "Epoch 5/20\n",
            "80/80 [==============================] - 1s 9ms/step - loss: 15.9611 - mae: 3.2240 - val_loss: 15.9419 - val_mae: 3.0151\n",
            "Epoch 6/20\n",
            "80/80 [==============================] - 1s 7ms/step - loss: 14.4875 - mae: 3.0822 - val_loss: 15.4745 - val_mae: 2.9662\n",
            "Epoch 7/20\n",
            "80/80 [==============================] - 1s 7ms/step - loss: 13.3496 - mae: 2.9616 - val_loss: 14.9908 - val_mae: 2.9238\n",
            "Epoch 8/20\n",
            "80/80 [==============================] - 1s 7ms/step - loss: 12.4718 - mae: 2.8637 - val_loss: 14.5517 - val_mae: 2.8917\n",
            "Epoch 9/20\n",
            "80/80 [==============================] - 1s 7ms/step - loss: 11.7888 - mae: 2.7862 - val_loss: 14.0739 - val_mae: 2.8587\n",
            "Epoch 10/20\n",
            "80/80 [==============================] - 1s 9ms/step - loss: 11.2369 - mae: 2.7241 - val_loss: 13.6221 - val_mae: 2.8267\n",
            "Epoch 11/20\n",
            "80/80 [==============================] - 1s 7ms/step - loss: 10.7955 - mae: 2.6707 - val_loss: 13.2189 - val_mae: 2.7966\n",
            "Epoch 12/20\n",
            "80/80 [==============================] - 1s 7ms/step - loss: 10.4388 - mae: 2.6256 - val_loss: 12.8670 - val_mae: 2.7669\n",
            "Epoch 13/20\n",
            "80/80 [==============================] - 1s 8ms/step - loss: 10.1476 - mae: 2.5888 - val_loss: 12.5698 - val_mae: 2.7405\n",
            "Epoch 14/20\n",
            "80/80 [==============================] - 1s 9ms/step - loss: 9.8984 - mae: 2.5567 - val_loss: 12.2543 - val_mae: 2.7118\n",
            "Epoch 15/20\n",
            "80/80 [==============================] - 1s 7ms/step - loss: 9.6701 - mae: 2.5263 - val_loss: 11.9854 - val_mae: 2.6869\n",
            "Epoch 16/20\n",
            "80/80 [==============================] - 1s 7ms/step - loss: 9.4836 - mae: 2.5002 - val_loss: 11.7282 - val_mae: 2.6645\n",
            "Epoch 17/20\n",
            "80/80 [==============================] - 1s 7ms/step - loss: 9.3105 - mae: 2.4749 - val_loss: 11.5129 - val_mae: 2.6450\n",
            "Epoch 18/20\n",
            "80/80 [==============================] - 1s 7ms/step - loss: 9.1520 - mae: 2.4525 - val_loss: 11.2920 - val_mae: 2.6257\n",
            "Epoch 19/20\n",
            "80/80 [==============================] - 1s 7ms/step - loss: 8.9969 - mae: 2.4298 - val_loss: 11.1065 - val_mae: 2.6089\n",
            "Epoch 20/20\n",
            "80/80 [==============================] - 1s 9ms/step - loss: 8.8504 - mae: 2.4087 - val_loss: 10.9530 - val_mae: 2.5951\n"
          ]
        }
      ]
    },
    {
      "cell_type": "code",
      "source": [
        "# Plot MAE cures for validation and training\n",
        "plot_hist_regression(history_cnn, baseline)"
      ],
      "metadata": {
        "colab": {
          "base_uri": "https://localhost:8080/",
          "height": 279
        },
        "id": "6bB6lzLYSG-u",
        "outputId": "b49ad997-036c-479b-f025-58106d02e8ce"
      },
      "execution_count": 21,
      "outputs": [
        {
          "output_type": "display_data",
          "data": {
            "text/plain": [
              "<Figure size 432x288 with 1 Axes>"
            ],
            "image/png": "[encoded data removed]"
          },
          "metadata": {
            "needs_background": "light"
          }
        }
      ]
    },
    {
      "cell_type": "markdown",
      "source": [
        "This model isn't any better, with a validation MAE of 2.77 degrees (also worse than the 'common-sense approach' that we tried at first), and we're overfitting a bit too.\n",
        "\n",
        "Why?\n",
        "\n",
        "In timeseries, order matters a lot: the recent past is more informative than data from 5 days ago, and convolutional layers don't take advantage of this fact -- max pooling and global average pooling layers actually destroy this order information."
      ],
      "metadata": {
        "id": "Kc2iMPSHViL1"
      }
    },
    {
      "cell_type": "markdown",
      "metadata": {
        "id": "3ozUAZX__a0R"
      },
      "source": [
        "## Long Short Term Memory (LSTM) Neural Networks\n",
        "\n",
        "\n"
      ]
    },
    {
      "cell_type": "code",
      "execution_count": 22,
      "metadata": {
        "id": "2dWfiaUw_a0R",
        "colab": {
          "base_uri": "https://localhost:8080/"
        },
        "outputId": "86c20f85-5e8d-47f3-a554-000d5ad1889f"
      },
      "outputs": [
        {
          "output_type": "stream",
          "name": "stdout",
          "text": [
            "Model: \"sequential_2\"\n",
            "_________________________________________________________________\n",
            " Layer (type)                Output Shape              Param #   \n",
            "=================================================================\n",
            " lstm (LSTM)                 (None, 20)                2160      \n",
            "                                                                 \n",
            " dense_3 (Dense)             (None, 1)                 21        \n",
            "                                                                 \n",
            "=================================================================\n",
            "Total params: 2,181\n",
            "Trainable params: 2,181\n",
            "Non-trainable params: 0\n",
            "_________________________________________________________________\n"
          ]
        }
      ],
      "source": [
        "# 1-layer LSTM\n",
        "\n",
        "model_lstm1 = models.Sequential()\n",
        "model_lstm1.add(layers.LSTM(20, input_shape=(sequence_length, len(df.columns)-1)))\n",
        "model_lstm1.add(layers.Dense(1))\n",
        "\n",
        "model_lstm1.summary()"
      ]
    },
    {
      "cell_type": "code",
      "source": [
        "n_epochs = 20"
      ],
      "metadata": {
        "id": "DMst2Mp0R0Xi"
      },
      "execution_count": 23,
      "outputs": []
    },
    {
      "cell_type": "code",
      "source": [
        "model_lstm1.compile(optimizer='rmsprop', loss='mse', metrics=['mae'])\n",
        "history_lstm1 = model_lstm1.fit(train_dataset, epochs=n_epochs,\n",
        "                            validation_data=val_dataset)"
      ],
      "metadata": {
        "colab": {
          "base_uri": "https://localhost:8080/"
        },
        "id": "Pff2tZQHXb-z",
        "outputId": "4d18a510-d483-4fb3-eb99-c725c911566c"
      },
      "execution_count": 24,
      "outputs": [
        {
          "output_type": "stream",
          "name": "stdout",
          "text": [
            "Epoch 1/20\n",
            "80/80 [==============================] - 4s 20ms/step - loss: 131.2690 - mae: 10.4349 - val_loss: 108.5383 - val_mae: 9.3830\n",
            "Epoch 2/20\n",
            "80/80 [==============================] - 1s 14ms/step - loss: 89.3022 - mae: 8.4670 - val_loss: 66.6060 - val_mae: 6.9588\n",
            "Epoch 3/20\n",
            "80/80 [==============================] - 1s 18ms/step - loss: 49.7292 - mae: 5.8364 - val_loss: 39.0136 - val_mae: 4.9388\n",
            "Epoch 4/20\n",
            "80/80 [==============================] - 2s 21ms/step - loss: 33.4518 - mae: 4.6877 - val_loss: 29.6777 - val_mae: 4.3171\n",
            "Epoch 5/20\n",
            "80/80 [==============================] - 1s 13ms/step - loss: 25.7952 - mae: 4.1230 - val_loss: 24.2669 - val_mae: 3.9351\n",
            "Epoch 6/20\n",
            "80/80 [==============================] - 1s 15ms/step - loss: 20.8551 - mae: 3.7049 - val_loss: 20.3044 - val_mae: 3.5921\n",
            "Epoch 7/20\n",
            "80/80 [==============================] - 1s 13ms/step - loss: 17.2047 - mae: 3.3639 - val_loss: 17.2238 - val_mae: 3.3062\n",
            "Epoch 8/20\n",
            "80/80 [==============================] - 1s 15ms/step - loss: 14.3689 - mae: 3.0632 - val_loss: 14.7907 - val_mae: 3.0589\n",
            "Epoch 9/20\n",
            "80/80 [==============================] - 2s 24ms/step - loss: 12.1693 - mae: 2.8044 - val_loss: 12.8963 - val_mae: 2.8597\n",
            "Epoch 10/20\n",
            "80/80 [==============================] - 1s 13ms/step - loss: 10.4611 - mae: 2.5885 - val_loss: 11.4422 - val_mae: 2.6986\n",
            "Epoch 11/20\n",
            "80/80 [==============================] - 1s 14ms/step - loss: 9.1554 - mae: 2.4131 - val_loss: 10.3235 - val_mae: 2.5665\n",
            "Epoch 12/20\n",
            "80/80 [==============================] - 1s 15ms/step - loss: 8.1754 - mae: 2.2774 - val_loss: 9.4586 - val_mae: 2.4605\n",
            "Epoch 13/20\n",
            "80/80 [==============================] - 1s 13ms/step - loss: 7.4615 - mae: 2.1771 - val_loss: 8.7956 - val_mae: 2.3786\n",
            "Epoch 14/20\n",
            "80/80 [==============================] - 1s 14ms/step - loss: 6.9498 - mae: 2.1062 - val_loss: 8.2844 - val_mae: 2.3161\n",
            "Epoch 15/20\n",
            "80/80 [==============================] - 1s 13ms/step - loss: 6.5761 - mae: 2.0482 - val_loss: 7.8826 - val_mae: 2.2633\n",
            "Epoch 16/20\n",
            "80/80 [==============================] - 1s 13ms/step - loss: 6.2871 - mae: 2.0005 - val_loss: 7.5617 - val_mae: 2.2163\n",
            "Epoch 17/20\n",
            "80/80 [==============================] - 1s 13ms/step - loss: 6.0492 - mae: 1.9608 - val_loss: 7.3009 - val_mae: 2.1764\n",
            "Epoch 18/20\n",
            "80/80 [==============================] - 1s 14ms/step - loss: 5.8455 - mae: 1.9250 - val_loss: 7.0826 - val_mae: 2.1411\n",
            "Epoch 19/20\n",
            "80/80 [==============================] - 1s 15ms/step - loss: 5.6676 - mae: 1.8930 - val_loss: 6.8928 - val_mae: 2.1087\n",
            "Epoch 20/20\n",
            "80/80 [==============================] - 1s 14ms/step - loss: 5.5098 - mae: 1.8648 - val_loss: 6.7223 - val_mae: 2.0786\n"
          ]
        }
      ]
    },
    {
      "cell_type": "code",
      "source": [
        "# Plot MAE cures for validation and training\n",
        "plot_hist_regression(history_lstm1, baseline)\n"
      ],
      "metadata": {
        "colab": {
          "base_uri": "https://localhost:8080/",
          "height": 279
        },
        "id": "hr-bgDUvXmvS",
        "outputId": "f81b6564-0f58-47c5-f2a4-75e287a45a6b"
      },
      "execution_count": 25,
      "outputs": [
        {
          "output_type": "display_data",
          "data": {
            "text/plain": [
              "<Figure size 432x288 with 1 Axes>"
            ],
            "image/png": "[encoded data removed]"
          },
          "metadata": {
            "needs_background": "light"
          }
        }
      ]
    },
    {
      "cell_type": "code",
      "source": [
        "print('Test MAE = %.2f degrees' % model_lstm1.evaluate(test_dataset)[1])"
      ],
      "metadata": {
        "colab": {
          "base_uri": "https://localhost:8080/"
        },
        "id": "0fFZvXXUcQ67",
        "outputId": "62c27d2b-b961-4bdd-de86-6224479488d5"
      },
      "execution_count": 26,
      "outputs": [
        {
          "output_type": "stream",
          "name": "stdout",
          "text": [
            "31/31 [==============================] - 0s 5ms/step - loss: 7.7889 - mae: 2.2076\n",
            "Test MAE = 2.21 degrees\n"
          ]
        }
      ]
    },
    {
      "cell_type": "markdown",
      "source": [
        "Success! We finally beat the common-sense baseline! The validation MAE now is 2.12 degrees, and the test MAE is 2.27.\n",
        "\n",
        "Why do LSTM layers work? Let's go back to the slides"
      ],
      "metadata": {
        "id": "bYSWwI1aXvwL"
      }
    },
    {
      "cell_type": "code",
      "source": [
        "# Adding dropout\n",
        "\n",
        "model_lstm2 = models.Sequential()\n",
        "model_lstm2.add(layers.LSTM(20, input_shape=(sequence_length, len(df.columns)-1), recurrent_dropout=0.25))\n",
        "model_lstm2.add(layers.Dropout(0.4))\n",
        "model_lstm2.add(layers.Dense(1))\n",
        "\n",
        "model_lstm2.summary()"
      ],
      "metadata": {
        "id": "acSYakeOcokB",
        "colab": {
          "base_uri": "https://localhost:8080/"
        },
        "outputId": "f67c9702-1eee-4019-c9b8-d2e15107f0b8"
      },
      "execution_count": 27,
      "outputs": [
        {
          "output_type": "stream",
          "name": "stdout",
          "text": [
            "Model: \"sequential_3\"\n",
            "_________________________________________________________________\n",
            " Layer (type)                Output Shape              Param #   \n",
            "=================================================================\n",
            " lstm_1 (LSTM)               (None, 20)                2160      \n",
            "                                                                 \n",
            " dropout (Dropout)           (None, 20)                0         \n",
            "                                                                 \n",
            " dense_4 (Dense)             (None, 1)                 21        \n",
            "                                                                 \n",
            "=================================================================\n",
            "Total params: 2,181\n",
            "Trainable params: 2,181\n",
            "Non-trainable params: 0\n",
            "_________________________________________________________________\n"
          ]
        }
      ]
    },
    {
      "cell_type": "code",
      "source": [
        "model_lstm2.compile(optimizer='rmsprop', loss='mse', metrics=['mae'])\n",
        "history_lstm2 = model_lstm2.fit(train_dataset, epochs=n_epochs,\n",
        "                            validation_data=val_dataset)"
      ],
      "metadata": {
        "colab": {
          "base_uri": "https://localhost:8080/"
        },
        "id": "LvRnf9TWSWf9",
        "outputId": "5c4bbd64-e489-4204-9f03-8f45ab6c1936"
      },
      "execution_count": 28,
      "outputs": [
        {
          "output_type": "stream",
          "name": "stdout",
          "text": [
            "Epoch 1/20\n",
            "80/80 [==============================] - 5s 23ms/step - loss: 142.1664 - mae: 10.5834 - val_loss: 119.7330 - val_mae: 9.4343\n",
            "Epoch 2/20\n",
            "80/80 [==============================] - 2s 19ms/step - loss: 102.5170 - mae: 8.7953 - val_loss: 70.0515 - val_mae: 6.8266\n",
            "Epoch 3/20\n",
            "80/80 [==============================] - 2s 19ms/step - loss: 55.8102 - mae: 6.1521 - val_loss: 40.4455 - val_mae: 4.9790\n",
            "Epoch 4/20\n",
            "80/80 [==============================] - 2s 19ms/step - loss: 36.7518 - mae: 4.9344 - val_loss: 29.5071 - val_mae: 4.2601\n",
            "Epoch 5/20\n",
            "80/80 [==============================] - 2s 19ms/step - loss: 28.3425 - mae: 4.2716 - val_loss: 23.6265 - val_mae: 3.8340\n",
            "Epoch 6/20\n",
            "80/80 [==============================] - 2s 19ms/step - loss: 23.1770 - mae: 3.8964 - val_loss: 20.2119 - val_mae: 3.5714\n",
            "Epoch 7/20\n",
            "80/80 [==============================] - 2s 19ms/step - loss: 20.5301 - mae: 3.6114 - val_loss: 17.1338 - val_mae: 3.2732\n",
            "Epoch 8/20\n",
            "80/80 [==============================] - 2s 19ms/step - loss: 18.3767 - mae: 3.4378 - val_loss: 15.1089 - val_mae: 3.0729\n",
            "Epoch 9/20\n",
            "80/80 [==============================] - 2s 20ms/step - loss: 16.2671 - mae: 3.2371 - val_loss: 13.5073 - val_mae: 2.9090\n",
            "Epoch 10/20\n",
            "80/80 [==============================] - 1s 18ms/step - loss: 15.7889 - mae: 3.1997 - val_loss: 12.1236 - val_mae: 2.7558\n",
            "Epoch 11/20\n",
            "80/80 [==============================] - 2s 19ms/step - loss: 14.5593 - mae: 3.0028 - val_loss: 11.3958 - val_mae: 2.6915\n",
            "Epoch 12/20\n",
            "80/80 [==============================] - 1s 19ms/step - loss: 13.8805 - mae: 2.9712 - val_loss: 10.0457 - val_mae: 2.5065\n",
            "Epoch 13/20\n",
            "80/80 [==============================] - 1s 18ms/step - loss: 12.9195 - mae: 2.8637 - val_loss: 9.8569 - val_mae: 2.5022\n",
            "Epoch 14/20\n",
            "80/80 [==============================] - 1s 19ms/step - loss: 12.1256 - mae: 2.7644 - val_loss: 9.2232 - val_mae: 2.4192\n",
            "Epoch 15/20\n",
            "80/80 [==============================] - 2s 19ms/step - loss: 11.9339 - mae: 2.7447 - val_loss: 8.7474 - val_mae: 2.3600\n",
            "Epoch 16/20\n",
            "80/80 [==============================] - 2s 19ms/step - loss: 11.3370 - mae: 2.6882 - val_loss: 8.1305 - val_mae: 2.2675\n",
            "Epoch 17/20\n",
            "80/80 [==============================] - 1s 18ms/step - loss: 10.9790 - mae: 2.6485 - val_loss: 7.8818 - val_mae: 2.2377\n",
            "Epoch 18/20\n",
            "80/80 [==============================] - 1s 18ms/step - loss: 10.5129 - mae: 2.5822 - val_loss: 7.7551 - val_mae: 2.2202\n",
            "Epoch 19/20\n",
            "80/80 [==============================] - 2s 19ms/step - loss: 10.7766 - mae: 2.6071 - val_loss: 7.2401 - val_mae: 2.1374\n",
            "Epoch 20/20\n",
            "80/80 [==============================] - 2s 19ms/step - loss: 10.8501 - mae: 2.6203 - val_loss: 7.0541 - val_mae: 2.1115\n"
          ]
        }
      ]
    },
    {
      "cell_type": "code",
      "source": [
        "# Plot MAE cures for validation and training\n",
        "plot_hist_regression(history_lstm2, baseline)"
      ],
      "metadata": {
        "colab": {
          "base_uri": "https://localhost:8080/",
          "height": 279
        },
        "id": "cWpm-j9iSck1",
        "outputId": "1047c8b5-2d7e-4370-9fbd-cca449645ffc"
      },
      "execution_count": 29,
      "outputs": [
        {
          "output_type": "display_data",
          "data": {
            "text/plain": [
              "<Figure size 432x288 with 1 Axes>"
            ],
            "image/png": "[encoded data removed]"
          },
          "metadata": {
            "needs_background": "light"
          }
        }
      ]
    },
    {
      "cell_type": "code",
      "source": [
        "print('Test MAE = %.2f degrees' % model_lstm2.evaluate(test_dataset)[1])"
      ],
      "metadata": {
        "colab": {
          "base_uri": "https://localhost:8080/"
        },
        "id": "rAIQrQDVSmSM",
        "outputId": "5dc36ecf-0e3f-4f07-9f02-d44cc5d2c5c0"
      },
      "execution_count": 30,
      "outputs": [
        {
          "output_type": "stream",
          "name": "stdout",
          "text": [
            "31/31 [==============================] - 0s 6ms/step - loss: 7.7968 - mae: 2.1813\n",
            "Test MAE = 2.18 degrees\n"
          ]
        }
      ]
    },
    {
      "cell_type": "markdown",
      "source": [
        "Note that validation set MAE is now lower than MAE on training set -- no longer overfitting. Validation MAE is 2.16 and test MAE is also 2.16.\n",
        "\n",
        "NOTE: This is a very simple dataset with very small differences in performance between different models.  You'll just have to take my word for it that *in general* this approach works. "
      ],
      "metadata": {
        "id": "H3OrpvE3S4gM"
      }
    },
    {
      "cell_type": "code",
      "source": [
        "# Performance in the previous figure can (maybe) still be improved\n",
        "# Let's try to add some more layers -- we can do this now that we're no longer overfitting\n",
        "\n",
        "model_lstm3 = models.Sequential()\n",
        "model_lstm3.add(layers.LSTM(20, input_shape=(sequence_length, len(df.columns)-1), recurrent_dropout=0.25, return_sequences=True))  # NEW!\n",
        "model_lstm3.add(layers.LSTM(20, input_shape=(sequence_length, len(df.columns)-1), recurrent_dropout=0.25))  # NEW!!\n",
        "model_lstm3.add(layers.Dropout(0.4))\n",
        "model_lstm3.add(layers.Dense(1))\n",
        "model_lstm3.summary()"
      ],
      "metadata": {
        "colab": {
          "base_uri": "https://localhost:8080/"
        },
        "id": "jq_ZDTttTX6_",
        "outputId": "61b116de-0040-471c-baca-0b50bb430f2b"
      },
      "execution_count": 31,
      "outputs": [
        {
          "output_type": "stream",
          "name": "stdout",
          "text": [
            "Model: \"sequential_4\"\n",
            "_________________________________________________________________\n",
            " Layer (type)                Output Shape              Param #   \n",
            "=================================================================\n",
            " lstm_2 (LSTM)               (None, 14, 20)            2160      \n",
            "                                                                 \n",
            " lstm_3 (LSTM)               (None, 20)                3280      \n",
            "                                                                 \n",
            " dropout_1 (Dropout)         (None, 20)                0         \n",
            "                                                                 \n",
            " dense_5 (Dense)             (None, 1)                 21        \n",
            "                                                                 \n",
            "=================================================================\n",
            "Total params: 5,461\n",
            "Trainable params: 5,461\n",
            "Non-trainable params: 0\n",
            "_________________________________________________________________\n"
          ]
        }
      ]
    },
    {
      "cell_type": "code",
      "source": [
        "model_lstm3.compile(optimizer='rmsprop', loss='mse', metrics=['mae'])\n",
        "\n",
        "callbacks = [EarlyStopping(monitor='val_mae', patience=2)]\n",
        "\n",
        "history_lstm3 = model_lstm3.fit(train_dataset, epochs=60,  # increased number of epochs\n",
        "                            validation_data=val_dataset,\n",
        "                            callbacks=callbacks)  # but added early stopping callback\n"
      ],
      "metadata": {
        "colab": {
          "base_uri": "https://localhost:8080/"
        },
        "id": "9xQXChtNUxzh",
        "outputId": "74096642-1708-416f-e2a2-d44fccfa23d4"
      },
      "execution_count": null,
      "outputs": [
        {
          "output_type": "stream",
          "name": "stdout",
          "text": [
            "Epoch 1/60\n",
            "80/80 [==============================] - 7s 35ms/step - loss: 125.9399 - mae: 10.0601 - val_loss: 87.5909 - val_mae: 7.9998\n",
            "Epoch 2/60\n",
            "80/80 [==============================] - 2s 30ms/step - loss: 67.1845 - mae: 6.9113 - val_loss: 48.8860 - val_mae: 5.5345\n",
            "Epoch 3/60\n",
            "80/80 [==============================] - 2s 31ms/step - loss: 43.6243 - mae: 5.4024 - val_loss: 36.8086 - val_mae: 4.7791\n",
            "Epoch 4/60\n",
            "80/80 [==============================] - 2s 30ms/step - loss: 34.7823 - mae: 4.7541 - val_loss: 31.2666 - val_mae: 4.4930\n",
            "Epoch 5/60\n",
            "80/80 [==============================] - 2s 30ms/step - loss: 28.9162 - mae: 4.3442 - val_loss: 26.6982 - val_mae: 4.1824\n",
            "Epoch 6/60\n",
            "80/80 [==============================] - 2s 30ms/step - loss: 24.5089 - mae: 3.9654 - val_loss: 22.1840 - val_mae: 3.7821\n",
            "Epoch 7/60\n",
            "80/80 [==============================] - 2s 31ms/step - loss: 21.3094 - mae: 3.7015 - val_loss: 18.7706 - val_mae: 3.4502\n",
            "Epoch 8/60\n",
            "80/80 [==============================] - 2s 30ms/step - loss: 20.2509 - mae: 3.6042 - val_loss: 17.3428 - val_mae: 3.3551\n",
            "Epoch 9/60\n",
            "80/80 [==============================] - 2s 29ms/step - loss: 16.9433 - mae: 3.2520 - val_loss: 15.4093 - val_mae: 3.1440\n",
            "Epoch 10/60\n",
            "80/80 [==============================] - 2s 30ms/step - loss: 16.3870 - mae: 3.2017 - val_loss: 14.6517 - val_mae: 3.0871\n",
            "Epoch 11/60\n",
            "80/80 [==============================] - 2s 30ms/step - loss: 15.5457 - mae: 3.0929 - val_loss: 13.1834 - val_mae: 2.9210\n",
            "Epoch 12/60\n",
            "80/80 [==============================] - 2s 30ms/step - loss: 13.8129 - mae: 2.9769 - val_loss: 11.2929 - val_mae: 2.6835\n",
            "Epoch 13/60\n",
            "80/80 [==============================] - 2s 30ms/step - loss: 13.3642 - mae: 2.8381 - val_loss: 10.5998 - val_mae: 2.6188\n",
            "Epoch 14/60\n",
            "80/80 [==============================] - 2s 29ms/step - loss: 11.9696 - mae: 2.7691 - val_loss: 9.9271 - val_mae: 2.5377\n",
            "Epoch 15/60\n",
            "80/80 [==============================] - 2s 30ms/step - loss: 11.5417 - mae: 2.7275 - val_loss: 9.5264 - val_mae: 2.4977\n",
            "Epoch 16/60\n",
            "80/80 [==============================] - 2s 30ms/step - loss: 11.1744 - mae: 2.6462 - val_loss: 9.2767 - val_mae: 2.4720\n",
            "Epoch 17/60\n",
            "80/80 [==============================] - 2s 31ms/step - loss: 10.6952 - mae: 2.6140 - val_loss: 8.4485 - val_mae: 2.3492\n",
            "Epoch 18/60\n",
            "80/80 [==============================] - 3s 34ms/step - loss: 11.5380 - mae: 2.7401 - val_loss: 8.3546 - val_mae: 2.3422\n",
            "Epoch 19/60\n",
            "80/80 [==============================] - 2s 30ms/step - loss: 10.7437 - mae: 2.6018 - val_loss: 8.4006 - val_mae: 2.3594\n",
            "Epoch 20/60\n",
            "41/80 [==============>...............] - ETA: 0s - loss: 10.4270 - mae: 2.5747"
          ]
        }
      ]
    },
    {
      "cell_type": "code",
      "source": [
        "# Plot MAE cures for validation and training\n",
        "plot_hist_regression(history_lstm3, baseline)\n",
        "print('Test MAE = %.2f degrees' % model_lstm3.evaluate(test_dataset)[1])"
      ],
      "metadata": {
        "colab": {
          "base_uri": "https://localhost:8080/",
          "height": 314
        },
        "id": "PtFfB3YaU4k3",
        "outputId": "eb5fd379-362d-4cb4-d846-d6d264dccab1"
      },
      "execution_count": null,
      "outputs": [
        {
          "output_type": "display_data",
          "data": {
            "image/png": "[encoded data removed]",
            "text/plain": [
              "<Figure size 432x288 with 1 Axes>"
            ]
          },
          "metadata": {
            "needs_background": "light"
          }
        },
        {
          "output_type": "stream",
          "name": "stdout",
          "text": [
            "31/31 [==============================] - 0s 7ms/step - loss: 6.0601 - mae: 1.8930\n",
            "Test MAE = 1.89 degrees\n"
          ]
        }
      ]
    },
    {
      "cell_type": "markdown",
      "source": [
        "Validation MAE = 1.92 degrees\n",
        "\n",
        "Test MAE = 1.89 degrees\n"
      ],
      "metadata": {
        "id": "eUJqRqp1XJnL"
      }
    },
    {
      "cell_type": "markdown",
      "source": [
        "# Text"
      ],
      "metadata": {
        "id": "zGEuNqw2csXj"
      }
    },
    {
      "cell_type": "markdown",
      "source": [
        "## Data prep\n",
        "\n",
        "We'll try to predict whether the review for a movie is positive or negative looking only at the text of the review.\n",
        "\n",
        "We'll use the IMDB text dataset for this task, which is available on `keras.datasets` and described [here](https://keras.io/api/datasets/imdb/). \n",
        "\n",
        "We'll merge the training and test sets and use 60% for training, 20% for validation, and 20% for testing.\n",
        "\n",
        "\n",
        "As this is a binary classificationp problem, we'll use the binary cross entropy loss function. We will keep track of accuracy when training and evaluating the model.\n"
      ],
      "metadata": {
        "id": "dtv0EjsTbwvm"
      }
    },
    {
      "cell_type": "code",
      "source": [
        "def plot_hist_classif(hist):\n",
        "  n_ = len(hist.history['accuracy'])\n",
        "  plt.plot(range(1, n_+1), 100*np.asarray(hist.history['accuracy']), 'bo', label='Accuracy on training set')\n",
        "  plt.plot(range(1, n_+1), 100*np.asarray(hist.history['val_accuracy']), 'b', label='Accuracy on validation set')\n",
        "  plt.legend()\n",
        "  plt.xlabel(\"Epoch\") \n",
        "  plt.ylabel(\"Accuracy\")\n",
        "  plt.ylim(0, 100)\n",
        "  plt.axhline(y=50)\n",
        "  plt.show()\n"
      ],
      "metadata": {
        "id": "i-mH-8IGwGo1"
      },
      "execution_count": null,
      "outputs": []
    },
    {
      "cell_type": "code",
      "source": [
        "max_features = 15000  # only consider the top 15k words\n",
        "maxlen = 500  # first 500 words of each review\n",
        "batch_size = 32\n",
        "\n",
        "print('Loading data...')\n",
        "# Load dataset\n",
        "(x_train, y_train), (x_test, y_test) = keras.datasets.imdb.load_data(num_words=max_features)\n",
        "print(len(x_train), 'train sequences', x_train.shape)\n",
        "print(len(x_test), 'test sequences', x_test.shape)"
      ],
      "metadata": {
        "colab": {
          "base_uri": "https://localhost:8080/"
        },
        "id": "4TW3Vg49n5V-",
        "outputId": "3807222c-72f1-48b9-ec7e-a45788dc5790"
      },
      "execution_count": null,
      "outputs": [
        {
          "output_type": "stream",
          "name": "stdout",
          "text": [
            "Loading data...\n",
            "Downloading data from https://storage.googleapis.com/tensorflow/tf-keras-datasets/imdb.npz\n",
            "17465344/17464789 [==============================] - 0s 0us/step\n",
            "17473536/17464789 [==============================] - 0s 0us/step\n",
            "25000 train sequences (25000,)\n",
            "25000 test sequences (25000,)\n"
          ]
        }
      ]
    },
    {
      "cell_type": "code",
      "source": [
        "# How balanced is this dataset?\n",
        "print(np.sum(y_train)/len(y_train))\n",
        "print(np.sum(y_test)/len(y_test))"
      ],
      "metadata": {
        "colab": {
          "base_uri": "https://localhost:8080/"
        },
        "id": "8ApTb-jYtSOm",
        "outputId": "f51644cd-02a1-4c35-d903-5fc0d68a3b9b"
      },
      "execution_count": null,
      "outputs": [
        {
          "output_type": "stream",
          "name": "stdout",
          "text": [
            "0.5\n",
            "0.5\n"
          ]
        }
      ]
    },
    {
      "cell_type": "code",
      "source": [
        "# Merge the two datasets and divide: 60% for training, 20% validation, 20% test\n",
        "x_, y_ = np.concatenate((x_train, x_test)), np.concatenate((y_train, y_test))\n",
        "print(x_.shape, y_.shape)\n",
        "x_train, x_test, y_train, y_test = train_test_split(x_, y_, test_size=0.4, random_state=10)  # 60/40 split\n",
        "x_val, x_test, y_val, y_test = train_test_split(x_test, y_test, test_size=0.5, random_state=10)  # 50/50 split\n",
        "print(len(x_train), 'train sequences', x_train.shape)\n",
        "print(len(x_val), 'validation sequences', x_val.shape)\n",
        "print(len(x_test), 'test sequences', x_test.shape)"
      ],
      "metadata": {
        "colab": {
          "base_uri": "https://localhost:8080/"
        },
        "id": "Z53Fbicqr8tm",
        "outputId": "4d7c9122-1eca-46cb-a708-cfe4681d93c8"
      },
      "execution_count": null,
      "outputs": [
        {
          "output_type": "stream",
          "name": "stdout",
          "text": [
            "(50000,) (50000,)\n",
            "30000 train sequences (30000,)\n",
            "10000 validation sequences (10000,)\n",
            "10000 test sequences (10000,)\n"
          ]
        }
      ]
    },
    {
      "cell_type": "code",
      "source": [
        "x_train[0][:10]  # numbers!!"
      ],
      "metadata": {
        "colab": {
          "base_uri": "https://localhost:8080/"
        },
        "id": "5v_Hy-r8o8pR",
        "outputId": "511de152-8560-4580-efce-a7fbdb3175d5"
      },
      "execution_count": null,
      "outputs": [
        {
          "output_type": "execute_result",
          "data": {
            "text/plain": [
              "[1, 11531, 186, 8, 28, 6, 6482, 7, 269, 4042]"
            ]
          },
          "metadata": {},
          "execution_count": 11
        }
      ]
    },
    {
      "cell_type": "code",
      "source": [
        "# We can explore what one of the reviews looks like at this point.\n",
        "\n",
        "# Retrieve the word index file that maps words to indices\n",
        "word_index = keras.datasets.imdb.get_word_index()\n",
        "# Reverse the word index to obtain a dict mapping indices to words (which is what we have)\n",
        "inverted_word_index = dict((i, word) for (word, i) in word_index.items())\n",
        "# Decode the first sequence in the dataset\n",
        "decoded_sequence = \" \".join(inverted_word_index[i] for i in x_train[0])\n",
        "decoded_sequence"
      ],
      "metadata": {
        "colab": {
          "base_uri": "https://localhost:8080/",
          "height": 105
        },
        "id": "rgEgNSLBpFwh",
        "outputId": "a820c43a-3177-45fc-bef4-10a804a18c86"
      },
      "execution_count": null,
      "outputs": [
        {
          "output_type": "stream",
          "name": "stdout",
          "text": [
            "Downloading data from https://storage.googleapis.com/tensorflow/tf-keras-datasets/imdb_word_index.json\n",
            "1646592/1641221 [==============================] - 0s 0us/step\n",
            "1654784/1641221 [==============================] - 0s 0us/step\n"
          ]
        },
        {
          "output_type": "execute_result",
          "data": {
            "application/vnd.google.colaboratory.intrinsic+json": {
              "type": "string"
            },
            "text/plain": [
              "\"the lilly horror in one is fatale br looks meaningless in bronson be showing as you debut film ample to and ingredients zombi ample they for series and thought she's all manipulate and believing in j show look early last quote desire tight interesting that's kind out is far shelter but of frame br and\""
            ]
          },
          "metadata": {},
          "execution_count": 12
        }
      ]
    },
    {
      "cell_type": "code",
      "source": [
        "# Let's ensure all sequences have the same length through padding\n",
        "# - shorter reviews are padded with 0's\n",
        "# - longer reviews are cut\n",
        "print('Pad sequences')\n",
        "x_train = keras.preprocessing.sequence.pad_sequences(x_train, maxlen=maxlen)\n",
        "x_val = keras.preprocessing.sequence.pad_sequences(x_val, maxlen=maxlen)\n",
        "x_test = keras.preprocessing.sequence.pad_sequences(x_test, maxlen=maxlen)\n",
        "print('x_train shape:', x_train.shape)\n",
        "print('x_val shape:', x_val.shape)\n",
        "print('x_test shape:', x_test.shape)"
      ],
      "metadata": {
        "colab": {
          "base_uri": "https://localhost:8080/"
        },
        "id": "ibmO0V-gcthG",
        "outputId": "9422d91d-b296-497b-b038-964ab28ab33c"
      },
      "execution_count": null,
      "outputs": [
        {
          "output_type": "stream",
          "name": "stdout",
          "text": [
            "Pad sequences\n",
            "x_train shape: (30000, 500)\n",
            "x_val shape: (10000, 500)\n",
            "x_test shape: (10000, 500)\n"
          ]
        }
      ]
    },
    {
      "cell_type": "code",
      "source": [
        "# Basic feedforward model\n",
        "model = models.Sequential()\n",
        "model.add(layers.Embedding(max_features, 128, input_length=maxlen))\n",
        "model.add(layers.Dense(64, activation='relu'))\n",
        "model.add(layers.Dropout(0.5))\n",
        "model.add(layers.Dense(64, activation='relu'))\n",
        "model.add(layers.Dropout(0.5))\n",
        "model.add(layers.Flatten())\n",
        "model.add(layers.Dense(1, activation=\"sigmoid\"))\n",
        "model.summary()"
      ],
      "metadata": {
        "colab": {
          "base_uri": "https://localhost:8080/"
        },
        "id": "sBpQpwBAk44H",
        "outputId": "eb86c1c0-0cd1-479e-a4ef-3f58cbf6abb0"
      },
      "execution_count": null,
      "outputs": [
        {
          "output_type": "stream",
          "name": "stdout",
          "text": [
            "Model: \"sequential_18\"\n",
            "_________________________________________________________________\n",
            " Layer (type)                Output Shape              Param #   \n",
            "=================================================================\n",
            " embedding_18 (Embedding)    (None, 500, 128)          1920000   \n",
            "                                                                 \n",
            " dense_46 (Dense)            (None, 500, 64)           8256      \n",
            "                                                                 \n",
            " dropout_30 (Dropout)        (None, 500, 64)           0         \n",
            "                                                                 \n",
            " dense_47 (Dense)            (None, 500, 64)           4160      \n",
            "                                                                 \n",
            " dropout_31 (Dropout)        (None, 500, 64)           0         \n",
            "                                                                 \n",
            " flatten_8 (Flatten)         (None, 32000)             0         \n",
            "                                                                 \n",
            " dense_48 (Dense)            (None, 1)                 32001     \n",
            "                                                                 \n",
            "=================================================================\n",
            "Total params: 1,964,417\n",
            "Trainable params: 1,964,417\n",
            "Non-trainable params: 0\n",
            "_________________________________________________________________\n"
          ]
        }
      ]
    },
    {
      "cell_type": "code",
      "source": [
        "model.compile(optimizer=\"rmsprop\", loss=\"binary_crossentropy\", metrics=[\"accuracy\"])\n",
        "history = model.fit(x_train, y_train, batch_size=batch_size, epochs=20, validation_data=(x_val, y_val))"
      ],
      "metadata": {
        "colab": {
          "base_uri": "https://localhost:8080/"
        },
        "id": "-8c7tCS5vrC3",
        "outputId": "aab08477-7bd5-4394-b052-3faa0d266096"
      },
      "execution_count": null,
      "outputs": [
        {
          "output_type": "stream",
          "name": "stdout",
          "text": [
            "Epoch 1/20\n",
            "938/938 [==============================] - 13s 12ms/step - loss: 0.4446 - accuracy: 0.7597 - val_loss: 0.2790 - val_accuracy: 0.8852\n",
            "Epoch 2/20\n",
            "938/938 [==============================] - 11s 12ms/step - loss: 0.2440 - accuracy: 0.9040 - val_loss: 0.3078 - val_accuracy: 0.8778\n",
            "Epoch 3/20\n",
            "938/938 [==============================] - 11s 12ms/step - loss: 0.2075 - accuracy: 0.9191 - val_loss: 0.2768 - val_accuracy: 0.8921\n",
            "Epoch 4/20\n",
            "938/938 [==============================] - 11s 11ms/step - loss: 0.1898 - accuracy: 0.9265 - val_loss: 0.2607 - val_accuracy: 0.8994\n",
            "Epoch 5/20\n",
            "938/938 [==============================] - 11s 11ms/step - loss: 0.1783 - accuracy: 0.9322 - val_loss: 0.2725 - val_accuracy: 0.8962\n",
            "Epoch 6/20\n",
            "938/938 [==============================] - 12s 13ms/step - loss: 0.1654 - accuracy: 0.9369 - val_loss: 0.3647 - val_accuracy: 0.8674\n",
            "Epoch 7/20\n",
            "938/938 [==============================] - 15s 16ms/step - loss: 0.1563 - accuracy: 0.9414 - val_loss: 0.3110 - val_accuracy: 0.8833\n",
            "Epoch 8/20\n",
            "938/938 [==============================] - 14s 14ms/step - loss: 0.1512 - accuracy: 0.9440 - val_loss: 0.2823 - val_accuracy: 0.8934\n",
            "Epoch 9/20\n",
            "938/938 [==============================] - 16s 17ms/step - loss: 0.1443 - accuracy: 0.9459 - val_loss: 0.4632 - val_accuracy: 0.8488\n",
            "Epoch 10/20\n",
            "938/938 [==============================] - 14s 15ms/step - loss: 0.1369 - accuracy: 0.9493 - val_loss: 0.2873 - val_accuracy: 0.8932\n",
            "Epoch 11/20\n",
            "938/938 [==============================] - 11s 12ms/step - loss: 0.1302 - accuracy: 0.9514 - val_loss: 0.4073 - val_accuracy: 0.8622\n",
            "Epoch 12/20\n",
            "938/938 [==============================] - 11s 12ms/step - loss: 0.1257 - accuracy: 0.9542 - val_loss: 0.3887 - val_accuracy: 0.8666\n",
            "Epoch 13/20\n",
            "938/938 [==============================] - 11s 12ms/step - loss: 0.1176 - accuracy: 0.9565 - val_loss: 0.4058 - val_accuracy: 0.8639\n",
            "Epoch 14/20\n",
            "938/938 [==============================] - 11s 12ms/step - loss: 0.1171 - accuracy: 0.9569 - val_loss: 0.3451 - val_accuracy: 0.8845\n",
            "Epoch 15/20\n",
            "938/938 [==============================] - 11s 12ms/step - loss: 0.1081 - accuracy: 0.9608 - val_loss: 0.5321 - val_accuracy: 0.8433\n",
            "Epoch 16/20\n",
            "938/938 [==============================] - 11s 12ms/step - loss: 0.1010 - accuracy: 0.9624 - val_loss: 0.4346 - val_accuracy: 0.8681\n",
            "Epoch 17/20\n",
            "938/938 [==============================] - 11s 11ms/step - loss: 0.0986 - accuracy: 0.9645 - val_loss: 0.5337 - val_accuracy: 0.8479\n",
            "Epoch 18/20\n",
            "938/938 [==============================] - 11s 12ms/step - loss: 0.0961 - accuracy: 0.9661 - val_loss: 0.4363 - val_accuracy: 0.8698\n",
            "Epoch 19/20\n",
            "938/938 [==============================] - 11s 11ms/step - loss: 0.0884 - accuracy: 0.9694 - val_loss: 0.4146 - val_accuracy: 0.8794\n",
            "Epoch 20/20\n",
            "938/938 [==============================] - 12s 12ms/step - loss: 0.0878 - accuracy: 0.9684 - val_loss: 0.6386 - val_accuracy: 0.8320\n"
          ]
        }
      ]
    },
    {
      "cell_type": "code",
      "source": [
        "plot_hist_classif(history)\n",
        "print('Test Accuracy = %.2f' % model.evaluate(x_test, y_test)[1])  # overfitting!"
      ],
      "metadata": {
        "colab": {
          "base_uri": "https://localhost:8080/",
          "height": 318
        },
        "id": "dKBVw5mHv_oX",
        "outputId": "01b16817-5689-4137-d46b-8275b712e986"
      },
      "execution_count": null,
      "outputs": [
        {
          "output_type": "display_data",
          "data": {
            "image/png": "[encoded data removed]",
            "text/plain": [
              "<Figure size 432x288 with 1 Axes>"
            ]
          },
          "metadata": {
            "needs_background": "light"
          }
        },
        {
          "output_type": "stream",
          "name": "stdout",
          "text": [
            "313/313 [==============================] - 1s 5ms/step - loss: 0.6392 - accuracy: 0.8309\n",
            "Test Accuracy = 0.83\n"
          ]
        }
      ]
    },
    {
      "cell_type": "code",
      "source": [
        "# Let's try an RNN\n",
        "model = models.Sequential()\n",
        "model.add(layers.Embedding(max_features, 64))\n",
        "model.add(layers.LSTM(128, return_sequences=False))\n",
        "model.add(layers.Dropout(0.5))\n",
        "model.add(layers.Dense(1, activation=\"sigmoid\"))\n",
        "model.compile(optimizer=\"rmsprop\", loss=\"binary_crossentropy\", metrics=[\"accuracy\"])\n",
        "model.summary()"
      ],
      "metadata": {
        "colab": {
          "base_uri": "https://localhost:8080/"
        },
        "id": "Ieh7Wl9Pwh8V",
        "outputId": "7e4d2bbc-b62c-407d-ee81-e5d62d9caa3a"
      },
      "execution_count": null,
      "outputs": [
        {
          "output_type": "stream",
          "name": "stdout",
          "text": [
            "Model: \"sequential_2\"\n",
            "_________________________________________________________________\n",
            " Layer (type)                Output Shape              Param #   \n",
            "=================================================================\n",
            " embedding_2 (Embedding)     (None, None, 64)          960000    \n",
            "                                                                 \n",
            " lstm_4 (LSTM)               (None, 128)               98816     \n",
            "                                                                 \n",
            " dropout_2 (Dropout)         (None, 128)               0         \n",
            "                                                                 \n",
            " dense_2 (Dense)             (None, 1)                 129       \n",
            "                                                                 \n",
            "=================================================================\n",
            "Total params: 1,058,945\n",
            "Trainable params: 1,058,945\n",
            "Non-trainable params: 0\n",
            "_________________________________________________________________\n"
          ]
        }
      ]
    },
    {
      "cell_type": "code",
      "source": [
        "# This model will take a long time to train, so we add an early stopping criterion\n",
        "# N.B: It's actually much faster to train WITHOUT A GPU!!\n",
        "callbacks = [EarlyStopping(monitor='val_accuracy', patience=2)]\n",
        "history = model.fit(x_train, y_train, batch_size=batch_size, epochs=20, validation_data=(x_val, y_val), callbacks=callbacks)\n",
        "plot_hist_classif(history)\n",
        "print('Test Accuracy = %.2f' % model.evaluate(x_test, y_test)[1])\n",
        "# Note that we're still overfitting, but this is just an example of use"
      ],
      "metadata": {
        "colab": {
          "base_uri": "https://localhost:8080/",
          "height": 561
        },
        "id": "Sd54xZMmxKBQ",
        "outputId": "96c092e9-eea3-4080-b720-31885daecd83"
      },
      "execution_count": null,
      "outputs": [
        {
          "output_type": "stream",
          "name": "stdout",
          "text": [
            "Epoch 1/20\n",
            "938/938 [==============================] - 476s 505ms/step - loss: 0.4209 - accuracy: 0.8129 - val_loss: 0.3985 - val_accuracy: 0.8645\n",
            "Epoch 2/20\n",
            "938/938 [==============================] - 490s 522ms/step - loss: 0.2808 - accuracy: 0.8916 - val_loss: 0.2791 - val_accuracy: 0.8866\n",
            "Epoch 3/20\n",
            "938/938 [==============================] - 475s 507ms/step - loss: 0.2338 - accuracy: 0.9130 - val_loss: 0.3231 - val_accuracy: 0.8945\n",
            "Epoch 4/20\n",
            "938/938 [==============================] - 480s 511ms/step - loss: 0.2113 - accuracy: 0.9250 - val_loss: 0.2889 - val_accuracy: 0.8817\n",
            "Epoch 5/20\n",
            "938/938 [==============================] - 468s 499ms/step - loss: 0.1846 - accuracy: 0.9347 - val_loss: 0.2552 - val_accuracy: 0.9050\n",
            "Epoch 6/20\n",
            "938/938 [==============================] - 470s 501ms/step - loss: 0.1598 - accuracy: 0.9435 - val_loss: 0.4075 - val_accuracy: 0.8703\n",
            "Epoch 7/20\n",
            "938/938 [==============================] - 472s 503ms/step - loss: 0.1433 - accuracy: 0.9517 - val_loss: 0.4536 - val_accuracy: 0.8694\n"
          ]
        },
        {
          "output_type": "display_data",
          "data": {
            "image/png": "[encoded data removed]",
            "text/plain": [
              "<Figure size 432x288 with 1 Axes>"
            ]
          },
          "metadata": {
            "needs_background": "light"
          }
        },
        {
          "output_type": "stream",
          "name": "stdout",
          "text": [
            "313/313 [==============================] - 38s 120ms/step - loss: 0.4368 - accuracy: 0.8754\n",
            "Test Accuracy = 0.88\n"
          ]
        }
      ]
    },
    {
      "cell_type": "markdown",
      "source": [
        "## Your turn!\n",
        "\n",
        "Implement a bidirectional RNN that can outperform the LSTM model we had above.\n",
        "\n",
        "A starting skeleton could be:\n",
        " \n",
        "*   Embedding layer with an output dimension of 64\n",
        "*   Bidirectional layer with a 32-neuron LSTM layer\n",
        "*   Dense layer with 1 neuron and a sigmoid activation\n",
        "\n",
        "Some suggestions:\n",
        "\n",
        "- Change the sizes of the layers (i.e., the numbers of neurons)\n",
        "- Add dropout\n",
        "- Add other recurrent and/or bidirectional layers\n",
        "\n",
        "Once you have a model that scores over 90% on the validation set, check its performance on the test set and upload it on the code checker in Moodle.\n",
        "\n",
        "Note that the model I'm suggesting above will be able to reach the desired performance, but it will show signs of overfitting. Can you do it by adding regularization (dropout, smaller network) so you don't overfit?\n"
      ],
      "metadata": {
        "id": "kzZhXm5gkz_g"
      }
    },
    {
      "cell_type": "code",
      "source": [
        "n_ = 10  # number of epochs. You can edit this\n",
        "\n",
        "model = models.Sequential()\n",
        "# YOUR CODE HERE!\n",
        "\n",
        "\n",
        "# I DON'T RECOMMEND THAT YOU CHANGE CODE AFTER THIS POINT\n",
        "model.compile(optimizer=\"rmsprop\", loss=\"binary_crossentropy\", metrics=[\"accuracy\"])\n",
        "\n",
        "print(model.summary())\n",
        "\n",
        "# This model will take a long time to train, so we add an early stopping criterion\n",
        "# I've also added a ModelCheckpoint that will save the best model according to val_accuracy regardless of whether we continue training\n",
        "callbacks = [EarlyStopping(monitor='val_accuracy', patience=1),\n",
        "             ModelCheckpoint(\"model.keras\", save_best_only=True, monitor=\"val_accuracy\", mode='max')]\n",
        "\n",
        "history = model.fit(x_train, y_train, batch_size=batch_size, epochs=n_, \n",
        "                    validation_data=(x_val, y_val), \n",
        "                    callbacks=callbacks)\n",
        "plot_hist_classif(history)\n",
        "model = keras.models.load_model(\"model.keras\")\n",
        "print('Test Accuracy = %.2f' % model.evaluate(x_test, y_test)[1])"
      ],
      "metadata": {
        "id": "jCHOC7dyadaj"
      },
      "execution_count": null,
      "outputs": []
    },
    {
      "cell_type": "code",
      "source": [
        "if model.count_params() > 1000000:\n",
        "    print(\"Due to memory constraints on Moodle, the lab quiz has a 10MB limit on your model size, so you need to use a smaller model to validate through the auto-marker.\")\n",
        "\n",
        "if history.history[\"val_accuracy\"][-1] > 0.9:\n",
        "    print(\"Your model is accurate enough!\")\n",
        "\n",
        "else:\n",
        "    print(\"Accuracy is below the threshold!\")\n",
        "    raise Exception(\"Your model isn't accurate enough to pass the progress checker!\")\n",
        "# Save the model into a local folder\n",
        "keras.models.save_model(model, \"Model.h5\",save_format='h5')\n",
        "print('Model saved! You can now upload it to the lab quiz.')"
      ],
      "metadata": {
        "id": "ZFBmg66_CR7y"
      },
      "execution_count": null,
      "outputs": []
    },
    {
      "cell_type": "code",
      "source": [
        ""
      ],
      "metadata": {
        "id": "hv7PyBQQsXav"
      },
      "execution_count": null,
      "outputs": []
    }
  ],
  "metadata": {
    "kernelspec": {
      "display_name": "Python 3",
      "language": "python",
      "name": "python3"
    },
    "language_info": {
      "codemirror_mode": {
        "name": "ipython",
        "version": 3
      },
      "file_extension": ".py",
      "mimetype": "text/x-python",
      "name": "python",
      "nbconvert_exporter": "python",
      "pygments_lexer": "ipython3",
      "version": "3.7.10"
    },
    "colab": {
      "name": "rnn.ipynb",
      "provenance": [],
      "collapsed_sections": [
        "WlhjIvZR_a0Q",
        "rloJamyvWPWj",
        "7c-duA1Z_a0R",
        "3ozUAZX__a0R"
      ],
      "include_colab_link": true
    },
    "accelerator": "GPU"
  },
  "nbformat": 4,
  "nbformat_minor": 0
}